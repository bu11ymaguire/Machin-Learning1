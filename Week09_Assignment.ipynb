{
  "nbformat": 4,
  "nbformat_minor": 0,
  "metadata": {
    "colab": {
      "provenance": []
    },
    "kernelspec": {
      "name": "python3",
      "display_name": "Python 3"
    },
    "language_info": {
      "name": "python"
    }
  },
  "cells": [
    {
      "cell_type": "markdown",
      "source": [
        "# **Machine Learning Programming**\n",
        "\n",
        "# Week08_KNN & NB\n",
        "\n",
        "### - **Submit either Assignment 1 or Assignment 2**\n",
        "\n",
        "\n",
        "### - **Please note that the code must be submitted in a state where it runs correctly when executed by the TA.**"
      ],
      "metadata": {
        "id": "VHgCoRkoYrk_"
      }
    },
    {
      "cell_type": "markdown",
      "source": [
        "---"
      ],
      "metadata": {
        "id": "_K0nihPfZv6b"
      }
    },
    {
      "cell_type": "markdown",
      "source": [
        "## **Assignment 1. KNN** (10 points)\n",
        "Download and load the **Wine** dataset.\n",
        "Then, build and train a KNN model.\n",
        "- When training, you may selectively use a few variables if you wish.\n",
        "- Determine the optimal k value based on accuracy or a decision boundary plot, and explain the reasoning behind your choice.\n",
        "\n"
      ],
      "metadata": {
        "id": "hdBCTJ4V5Twi"
      }
    },
    {
      "cell_type": "markdown",
      "source": [
        "### 1 Data Load and Preprocessing (2 points)"
      ],
      "metadata": {
        "id": "z19ql_D-3-sZ"
      }
    },
    {
      "cell_type": "code",
      "source": [
        "import pandas as pd\n",
        "from sklearn.model_selection import train_test_split\n",
        "from sklearn.preprocessing import StandardScaler\n",
        "from sklearn.neighbors import KNeighborsClassifier\n",
        "from sklearn.naive_bayes import GaussianNB\n",
        "from sklearn.metrics import accuracy_score, classification_report, confusion_matrix\n",
        "import matplotlib.pyplot as plt\n",
        "import seaborn as sns"
      ],
      "metadata": {
        "id": "maxvIwvg4upo"
      },
      "execution_count": null,
      "outputs": []
    },
    {
      "cell_type": "code",
      "source": [
        "from google.colab import drive\n",
        "drive.mount('/content/drive')"
      ],
      "metadata": {
        "colab": {
          "base_uri": "https://localhost:8080/"
        },
        "id": "w6LVtJO5aEGk",
        "outputId": "50de5df2-c382-4077-a0f5-8cd303a24b6b"
      },
      "execution_count": null,
      "outputs": [
        {
          "output_type": "stream",
          "name": "stdout",
          "text": [
            "Mounted at /content/drive\n"
          ]
        }
      ]
    },
    {
      "cell_type": "code",
      "source": [
        "wine = pd.read_csv('/content/wine.csv')\n",
        "wine"
      ],
      "metadata": {
        "colab": {
          "base_uri": "https://localhost:8080/",
          "height": 424
        },
        "id": "5ApWyzONcQWP",
        "outputId": "32bb66a4-e7a7-413f-d2bb-2294f3f53f1b"
      },
      "execution_count": null,
      "outputs": [
        {
          "output_type": "execute_result",
          "data": {
            "text/plain": [
              "     Wine  Alcohol  Flavanoids  Color.int  Proline\n",
              "0       1    14.23        3.06       5.64     1065\n",
              "1       1    13.20        2.76       4.38     1050\n",
              "2       1    13.16        3.24       5.68     1185\n",
              "3       1    14.37        3.49       7.80     1480\n",
              "4       1    13.24        2.69       4.32      735\n",
              "..    ...      ...         ...        ...      ...\n",
              "173     3    13.71        0.61       7.70      740\n",
              "174     3    13.40        0.75       7.30      750\n",
              "175     3    13.27        0.69      10.20      835\n",
              "176     3    13.17        0.68       9.30      840\n",
              "177     3    14.13        0.76       9.20      560\n",
              "\n",
              "[178 rows x 5 columns]"
            ],
            "text/html": [
              "\n",
              "  <div id=\"df-1e20abe1-f3fb-478b-98db-bf93d9c274aa\" class=\"colab-df-container\">\n",
              "    <div>\n",
              "<style scoped>\n",
              "    .dataframe tbody tr th:only-of-type {\n",
              "        vertical-align: middle;\n",
              "    }\n",
              "\n",
              "    .dataframe tbody tr th {\n",
              "        vertical-align: top;\n",
              "    }\n",
              "\n",
              "    .dataframe thead th {\n",
              "        text-align: right;\n",
              "    }\n",
              "</style>\n",
              "<table border=\"1\" class=\"dataframe\">\n",
              "  <thead>\n",
              "    <tr style=\"text-align: right;\">\n",
              "      <th></th>\n",
              "      <th>Wine</th>\n",
              "      <th>Alcohol</th>\n",
              "      <th>Flavanoids</th>\n",
              "      <th>Color.int</th>\n",
              "      <th>Proline</th>\n",
              "    </tr>\n",
              "  </thead>\n",
              "  <tbody>\n",
              "    <tr>\n",
              "      <th>0</th>\n",
              "      <td>1</td>\n",
              "      <td>14.23</td>\n",
              "      <td>3.06</td>\n",
              "      <td>5.64</td>\n",
              "      <td>1065</td>\n",
              "    </tr>\n",
              "    <tr>\n",
              "      <th>1</th>\n",
              "      <td>1</td>\n",
              "      <td>13.20</td>\n",
              "      <td>2.76</td>\n",
              "      <td>4.38</td>\n",
              "      <td>1050</td>\n",
              "    </tr>\n",
              "    <tr>\n",
              "      <th>2</th>\n",
              "      <td>1</td>\n",
              "      <td>13.16</td>\n",
              "      <td>3.24</td>\n",
              "      <td>5.68</td>\n",
              "      <td>1185</td>\n",
              "    </tr>\n",
              "    <tr>\n",
              "      <th>3</th>\n",
              "      <td>1</td>\n",
              "      <td>14.37</td>\n",
              "      <td>3.49</td>\n",
              "      <td>7.80</td>\n",
              "      <td>1480</td>\n",
              "    </tr>\n",
              "    <tr>\n",
              "      <th>4</th>\n",
              "      <td>1</td>\n",
              "      <td>13.24</td>\n",
              "      <td>2.69</td>\n",
              "      <td>4.32</td>\n",
              "      <td>735</td>\n",
              "    </tr>\n",
              "    <tr>\n",
              "      <th>...</th>\n",
              "      <td>...</td>\n",
              "      <td>...</td>\n",
              "      <td>...</td>\n",
              "      <td>...</td>\n",
              "      <td>...</td>\n",
              "    </tr>\n",
              "    <tr>\n",
              "      <th>173</th>\n",
              "      <td>3</td>\n",
              "      <td>13.71</td>\n",
              "      <td>0.61</td>\n",
              "      <td>7.70</td>\n",
              "      <td>740</td>\n",
              "    </tr>\n",
              "    <tr>\n",
              "      <th>174</th>\n",
              "      <td>3</td>\n",
              "      <td>13.40</td>\n",
              "      <td>0.75</td>\n",
              "      <td>7.30</td>\n",
              "      <td>750</td>\n",
              "    </tr>\n",
              "    <tr>\n",
              "      <th>175</th>\n",
              "      <td>3</td>\n",
              "      <td>13.27</td>\n",
              "      <td>0.69</td>\n",
              "      <td>10.20</td>\n",
              "      <td>835</td>\n",
              "    </tr>\n",
              "    <tr>\n",
              "      <th>176</th>\n",
              "      <td>3</td>\n",
              "      <td>13.17</td>\n",
              "      <td>0.68</td>\n",
              "      <td>9.30</td>\n",
              "      <td>840</td>\n",
              "    </tr>\n",
              "    <tr>\n",
              "      <th>177</th>\n",
              "      <td>3</td>\n",
              "      <td>14.13</td>\n",
              "      <td>0.76</td>\n",
              "      <td>9.20</td>\n",
              "      <td>560</td>\n",
              "    </tr>\n",
              "  </tbody>\n",
              "</table>\n",
              "<p>178 rows × 5 columns</p>\n",
              "</div>\n",
              "    <div class=\"colab-df-buttons\">\n",
              "\n",
              "  <div class=\"colab-df-container\">\n",
              "    <button class=\"colab-df-convert\" onclick=\"convertToInteractive('df-1e20abe1-f3fb-478b-98db-bf93d9c274aa')\"\n",
              "            title=\"Convert this dataframe to an interactive table.\"\n",
              "            style=\"display:none;\">\n",
              "\n",
              "  <svg xmlns=\"http://www.w3.org/2000/svg\" height=\"24px\" viewBox=\"0 -960 960 960\">\n",
              "    <path d=\"M120-120v-720h720v720H120Zm60-500h600v-160H180v160Zm220 220h160v-160H400v160Zm0 220h160v-160H400v160ZM180-400h160v-160H180v160Zm440 0h160v-160H620v160ZM180-180h160v-160H180v160Zm440 0h160v-160H620v160Z\"/>\n",
              "  </svg>\n",
              "    </button>\n",
              "\n",
              "  <style>\n",
              "    .colab-df-container {\n",
              "      display:flex;\n",
              "      gap: 12px;\n",
              "    }\n",
              "\n",
              "    .colab-df-convert {\n",
              "      background-color: #E8F0FE;\n",
              "      border: none;\n",
              "      border-radius: 50%;\n",
              "      cursor: pointer;\n",
              "      display: none;\n",
              "      fill: #1967D2;\n",
              "      height: 32px;\n",
              "      padding: 0 0 0 0;\n",
              "      width: 32px;\n",
              "    }\n",
              "\n",
              "    .colab-df-convert:hover {\n",
              "      background-color: #E2EBFA;\n",
              "      box-shadow: 0px 1px 2px rgba(60, 64, 67, 0.3), 0px 1px 3px 1px rgba(60, 64, 67, 0.15);\n",
              "      fill: #174EA6;\n",
              "    }\n",
              "\n",
              "    .colab-df-buttons div {\n",
              "      margin-bottom: 4px;\n",
              "    }\n",
              "\n",
              "    [theme=dark] .colab-df-convert {\n",
              "      background-color: #3B4455;\n",
              "      fill: #D2E3FC;\n",
              "    }\n",
              "\n",
              "    [theme=dark] .colab-df-convert:hover {\n",
              "      background-color: #434B5C;\n",
              "      box-shadow: 0px 1px 3px 1px rgba(0, 0, 0, 0.15);\n",
              "      filter: drop-shadow(0px 1px 2px rgba(0, 0, 0, 0.3));\n",
              "      fill: #FFFFFF;\n",
              "    }\n",
              "  </style>\n",
              "\n",
              "    <script>\n",
              "      const buttonEl =\n",
              "        document.querySelector('#df-1e20abe1-f3fb-478b-98db-bf93d9c274aa button.colab-df-convert');\n",
              "      buttonEl.style.display =\n",
              "        google.colab.kernel.accessAllowed ? 'block' : 'none';\n",
              "\n",
              "      async function convertToInteractive(key) {\n",
              "        const element = document.querySelector('#df-1e20abe1-f3fb-478b-98db-bf93d9c274aa');\n",
              "        const dataTable =\n",
              "          await google.colab.kernel.invokeFunction('convertToInteractive',\n",
              "                                                    [key], {});\n",
              "        if (!dataTable) return;\n",
              "\n",
              "        const docLinkHtml = 'Like what you see? Visit the ' +\n",
              "          '<a target=\"_blank\" href=https://colab.research.google.com/notebooks/data_table.ipynb>data table notebook</a>'\n",
              "          + ' to learn more about interactive tables.';\n",
              "        element.innerHTML = '';\n",
              "        dataTable['output_type'] = 'display_data';\n",
              "        await google.colab.output.renderOutput(dataTable, element);\n",
              "        const docLink = document.createElement('div');\n",
              "        docLink.innerHTML = docLinkHtml;\n",
              "        element.appendChild(docLink);\n",
              "      }\n",
              "    </script>\n",
              "  </div>\n",
              "\n",
              "\n",
              "    <div id=\"df-ed8bedcd-37b2-4d9b-a733-b094feeec060\">\n",
              "      <button class=\"colab-df-quickchart\" onclick=\"quickchart('df-ed8bedcd-37b2-4d9b-a733-b094feeec060')\"\n",
              "                title=\"Suggest charts\"\n",
              "                style=\"display:none;\">\n",
              "\n",
              "<svg xmlns=\"http://www.w3.org/2000/svg\" height=\"24px\"viewBox=\"0 0 24 24\"\n",
              "     width=\"24px\">\n",
              "    <g>\n",
              "        <path d=\"M19 3H5c-1.1 0-2 .9-2 2v14c0 1.1.9 2 2 2h14c1.1 0 2-.9 2-2V5c0-1.1-.9-2-2-2zM9 17H7v-7h2v7zm4 0h-2V7h2v10zm4 0h-2v-4h2v4z\"/>\n",
              "    </g>\n",
              "</svg>\n",
              "      </button>\n",
              "\n",
              "<style>\n",
              "  .colab-df-quickchart {\n",
              "      --bg-color: #E8F0FE;\n",
              "      --fill-color: #1967D2;\n",
              "      --hover-bg-color: #E2EBFA;\n",
              "      --hover-fill-color: #174EA6;\n",
              "      --disabled-fill-color: #AAA;\n",
              "      --disabled-bg-color: #DDD;\n",
              "  }\n",
              "\n",
              "  [theme=dark] .colab-df-quickchart {\n",
              "      --bg-color: #3B4455;\n",
              "      --fill-color: #D2E3FC;\n",
              "      --hover-bg-color: #434B5C;\n",
              "      --hover-fill-color: #FFFFFF;\n",
              "      --disabled-bg-color: #3B4455;\n",
              "      --disabled-fill-color: #666;\n",
              "  }\n",
              "\n",
              "  .colab-df-quickchart {\n",
              "    background-color: var(--bg-color);\n",
              "    border: none;\n",
              "    border-radius: 50%;\n",
              "    cursor: pointer;\n",
              "    display: none;\n",
              "    fill: var(--fill-color);\n",
              "    height: 32px;\n",
              "    padding: 0;\n",
              "    width: 32px;\n",
              "  }\n",
              "\n",
              "  .colab-df-quickchart:hover {\n",
              "    background-color: var(--hover-bg-color);\n",
              "    box-shadow: 0 1px 2px rgba(60, 64, 67, 0.3), 0 1px 3px 1px rgba(60, 64, 67, 0.15);\n",
              "    fill: var(--button-hover-fill-color);\n",
              "  }\n",
              "\n",
              "  .colab-df-quickchart-complete:disabled,\n",
              "  .colab-df-quickchart-complete:disabled:hover {\n",
              "    background-color: var(--disabled-bg-color);\n",
              "    fill: var(--disabled-fill-color);\n",
              "    box-shadow: none;\n",
              "  }\n",
              "\n",
              "  .colab-df-spinner {\n",
              "    border: 2px solid var(--fill-color);\n",
              "    border-color: transparent;\n",
              "    border-bottom-color: var(--fill-color);\n",
              "    animation:\n",
              "      spin 1s steps(1) infinite;\n",
              "  }\n",
              "\n",
              "  @keyframes spin {\n",
              "    0% {\n",
              "      border-color: transparent;\n",
              "      border-bottom-color: var(--fill-color);\n",
              "      border-left-color: var(--fill-color);\n",
              "    }\n",
              "    20% {\n",
              "      border-color: transparent;\n",
              "      border-left-color: var(--fill-color);\n",
              "      border-top-color: var(--fill-color);\n",
              "    }\n",
              "    30% {\n",
              "      border-color: transparent;\n",
              "      border-left-color: var(--fill-color);\n",
              "      border-top-color: var(--fill-color);\n",
              "      border-right-color: var(--fill-color);\n",
              "    }\n",
              "    40% {\n",
              "      border-color: transparent;\n",
              "      border-right-color: var(--fill-color);\n",
              "      border-top-color: var(--fill-color);\n",
              "    }\n",
              "    60% {\n",
              "      border-color: transparent;\n",
              "      border-right-color: var(--fill-color);\n",
              "    }\n",
              "    80% {\n",
              "      border-color: transparent;\n",
              "      border-right-color: var(--fill-color);\n",
              "      border-bottom-color: var(--fill-color);\n",
              "    }\n",
              "    90% {\n",
              "      border-color: transparent;\n",
              "      border-bottom-color: var(--fill-color);\n",
              "    }\n",
              "  }\n",
              "</style>\n",
              "\n",
              "      <script>\n",
              "        async function quickchart(key) {\n",
              "          const quickchartButtonEl =\n",
              "            document.querySelector('#' + key + ' button');\n",
              "          quickchartButtonEl.disabled = true;  // To prevent multiple clicks.\n",
              "          quickchartButtonEl.classList.add('colab-df-spinner');\n",
              "          try {\n",
              "            const charts = await google.colab.kernel.invokeFunction(\n",
              "                'suggestCharts', [key], {});\n",
              "          } catch (error) {\n",
              "            console.error('Error during call to suggestCharts:', error);\n",
              "          }\n",
              "          quickchartButtonEl.classList.remove('colab-df-spinner');\n",
              "          quickchartButtonEl.classList.add('colab-df-quickchart-complete');\n",
              "        }\n",
              "        (() => {\n",
              "          let quickchartButtonEl =\n",
              "            document.querySelector('#df-ed8bedcd-37b2-4d9b-a733-b094feeec060 button');\n",
              "          quickchartButtonEl.style.display =\n",
              "            google.colab.kernel.accessAllowed ? 'block' : 'none';\n",
              "        })();\n",
              "      </script>\n",
              "    </div>\n",
              "\n",
              "  <div id=\"id_d8adc8ac-2294-429c-b8b9-547af10aa612\">\n",
              "    <style>\n",
              "      .colab-df-generate {\n",
              "        background-color: #E8F0FE;\n",
              "        border: none;\n",
              "        border-radius: 50%;\n",
              "        cursor: pointer;\n",
              "        display: none;\n",
              "        fill: #1967D2;\n",
              "        height: 32px;\n",
              "        padding: 0 0 0 0;\n",
              "        width: 32px;\n",
              "      }\n",
              "\n",
              "      .colab-df-generate:hover {\n",
              "        background-color: #E2EBFA;\n",
              "        box-shadow: 0px 1px 2px rgba(60, 64, 67, 0.3), 0px 1px 3px 1px rgba(60, 64, 67, 0.15);\n",
              "        fill: #174EA6;\n",
              "      }\n",
              "\n",
              "      [theme=dark] .colab-df-generate {\n",
              "        background-color: #3B4455;\n",
              "        fill: #D2E3FC;\n",
              "      }\n",
              "\n",
              "      [theme=dark] .colab-df-generate:hover {\n",
              "        background-color: #434B5C;\n",
              "        box-shadow: 0px 1px 3px 1px rgba(0, 0, 0, 0.15);\n",
              "        filter: drop-shadow(0px 1px 2px rgba(0, 0, 0, 0.3));\n",
              "        fill: #FFFFFF;\n",
              "      }\n",
              "    </style>\n",
              "    <button class=\"colab-df-generate\" onclick=\"generateWithVariable('wine')\"\n",
              "            title=\"Generate code using this dataframe.\"\n",
              "            style=\"display:none;\">\n",
              "\n",
              "  <svg xmlns=\"http://www.w3.org/2000/svg\" height=\"24px\"viewBox=\"0 0 24 24\"\n",
              "       width=\"24px\">\n",
              "    <path d=\"M7,19H8.4L18.45,9,17,7.55,7,17.6ZM5,21V16.75L18.45,3.32a2,2,0,0,1,2.83,0l1.4,1.43a1.91,1.91,0,0,1,.58,1.4,1.91,1.91,0,0,1-.58,1.4L9.25,21ZM18.45,9,17,7.55Zm-12,3A5.31,5.31,0,0,0,4.9,8.1,5.31,5.31,0,0,0,1,6.5,5.31,5.31,0,0,0,4.9,4.9,5.31,5.31,0,0,0,6.5,1,5.31,5.31,0,0,0,8.1,4.9,5.31,5.31,0,0,0,12,6.5,5.46,5.46,0,0,0,6.5,12Z\"/>\n",
              "  </svg>\n",
              "    </button>\n",
              "    <script>\n",
              "      (() => {\n",
              "      const buttonEl =\n",
              "        document.querySelector('#id_d8adc8ac-2294-429c-b8b9-547af10aa612 button.colab-df-generate');\n",
              "      buttonEl.style.display =\n",
              "        google.colab.kernel.accessAllowed ? 'block' : 'none';\n",
              "\n",
              "      buttonEl.onclick = () => {\n",
              "        google.colab.notebook.generateWithVariable('wine');\n",
              "      }\n",
              "      })();\n",
              "    </script>\n",
              "  </div>\n",
              "\n",
              "    </div>\n",
              "  </div>\n"
            ],
            "application/vnd.google.colaboratory.intrinsic+json": {
              "type": "dataframe",
              "variable_name": "wine",
              "summary": "{\n  \"name\": \"wine\",\n  \"rows\": 178,\n  \"fields\": [\n    {\n      \"column\": \"Wine\",\n      \"properties\": {\n        \"dtype\": \"number\",\n        \"std\": 0,\n        \"min\": 1,\n        \"max\": 3,\n        \"num_unique_values\": 3,\n        \"samples\": [\n          1,\n          2,\n          3\n        ],\n        \"semantic_type\": \"\",\n        \"description\": \"\"\n      }\n    },\n    {\n      \"column\": \"Alcohol\",\n      \"properties\": {\n        \"dtype\": \"number\",\n        \"std\": 0.8118265380058577,\n        \"min\": 11.03,\n        \"max\": 14.83,\n        \"num_unique_values\": 126,\n        \"samples\": [\n          11.62,\n          13.64,\n          13.69\n        ],\n        \"semantic_type\": \"\",\n        \"description\": \"\"\n      }\n    },\n    {\n      \"column\": \"Flavanoids\",\n      \"properties\": {\n        \"dtype\": \"number\",\n        \"std\": 0.9988586850169465,\n        \"min\": 0.34,\n        \"max\": 5.08,\n        \"num_unique_values\": 132,\n        \"samples\": [\n          3.18,\n          2.5,\n          3.17\n        ],\n        \"semantic_type\": \"\",\n        \"description\": \"\"\n      }\n    },\n    {\n      \"column\": \"Color.int\",\n      \"properties\": {\n        \"dtype\": \"number\",\n        \"std\": 2.318285871822413,\n        \"min\": 1.28,\n        \"max\": 13.0,\n        \"num_unique_values\": 132,\n        \"samples\": [\n          2.95,\n          3.3,\n          5.1\n        ],\n        \"semantic_type\": \"\",\n        \"description\": \"\"\n      }\n    },\n    {\n      \"column\": \"Proline\",\n      \"properties\": {\n        \"dtype\": \"number\",\n        \"std\": 314,\n        \"min\": 278,\n        \"max\": 1680,\n        \"num_unique_values\": 121,\n        \"samples\": [\n          1375,\n          1270,\n          735\n        ],\n        \"semantic_type\": \"\",\n        \"description\": \"\"\n      }\n    }\n  ]\n}"
            }
          },
          "metadata": {},
          "execution_count": 4
        }
      ]
    },
    {
      "cell_type": "code",
      "source": [
        "print(wine.head())\n",
        "print(wine.columns)"
      ],
      "metadata": {
        "colab": {
          "base_uri": "https://localhost:8080/"
        },
        "id": "rsLJ2UQgch-d",
        "outputId": "b76db7f6-2553-4b13-dbe1-3b329a3a320c"
      },
      "execution_count": null,
      "outputs": [
        {
          "output_type": "stream",
          "name": "stdout",
          "text": [
            "   Wine  Alcohol  Flavanoids  Color.int  Proline\n",
            "0     1    14.23        3.06       5.64     1065\n",
            "1     1    13.20        2.76       4.38     1050\n",
            "2     1    13.16        3.24       5.68     1185\n",
            "3     1    14.37        3.49       7.80     1480\n",
            "4     1    13.24        2.69       4.32      735\n",
            "Index(['Wine', 'Alcohol', 'Flavanoids', 'Color.int', 'Proline'], dtype='object')\n"
          ]
        }
      ]
    },
    {
      "cell_type": "markdown",
      "source": [
        "### 2 Train/Test Split\n",
        "- Split the datasets into train and test sets."
      ],
      "metadata": {
        "id": "mtgbJbzaMVg5"
      }
    },
    {
      "cell_type": "code",
      "source": [
        "# Split the dataset\n",
        "X = wine.drop('Wine',axis = 1 )\n",
        "y = wine['Wine']\n",
        "\n",
        "X_train, X_test, y_train, y_test = train_test_split(X, y, test_size=0.2, random_state=42,stratify=y)"
      ],
      "metadata": {
        "id": "_QOLf38jMdnl"
      },
      "execution_count": null,
      "outputs": []
    },
    {
      "cell_type": "code",
      "source": [
        "print(f\"\\n\\n Total Data: {len(wine)}\")\n",
        "print(f\"Train set: {len(X_train)} ( {len(X_train)/len(wine):.1%})\")\n",
        "print(f\"Test set: {len(X_test)} ( {len(X_test)/len(wine):.1%})\")"
      ],
      "metadata": {
        "colab": {
          "base_uri": "https://localhost:8080/"
        },
        "id": "-_eaWrq2eKD2",
        "outputId": "182b874b-b882-4408-c4ad-bae8055cd4a8"
      },
      "execution_count": null,
      "outputs": [
        {
          "output_type": "stream",
          "name": "stdout",
          "text": [
            "\n",
            "\n",
            " Total Data: 178\n",
            "Train set: 142 ( 79.8%)\n",
            "Test set: 36 ( 20.2%)\n"
          ]
        }
      ]
    },
    {
      "cell_type": "markdown",
      "source": [
        "### 3 Model Training (3 points)\n",
        "- Train KNN classifier with the preprocessed data."
      ],
      "metadata": {
        "id": "v-h2KHg05XTS"
      }
    },
    {
      "cell_type": "code",
      "source": [
        "scaler = StandardScaler()\n",
        "X_train_scaled = scaler.fit_transform(X_train)\n",
        "X_test_scaled = scaler.transform(X_test)\n",
        "\n",
        "print(\"\\n--- Data Scaling Complete ---\")\n",
        "print(\"X_train_scaled shape:\", X_train_scaled.shape)\n",
        "print(\"X_test_scaled shape:\", X_test_scaled.shape)"
      ],
      "metadata": {
        "colab": {
          "base_uri": "https://localhost:8080/"
        },
        "id": "4-ijG8tlfFFT",
        "outputId": "88ae8e19-71a7-467d-be44-3ed98574c83b"
      },
      "execution_count": null,
      "outputs": [
        {
          "output_type": "stream",
          "name": "stdout",
          "text": [
            "\n",
            "--- Data Scaling Complete ---\n",
            "X_train_scaled shape: (142, 4)\n",
            "X_test_scaled shape: (36, 4)\n"
          ]
        }
      ]
    },
    {
      "cell_type": "code",
      "source": [
        "from sklearn.model_selection import GridSearchCV\n",
        "\n",
        "print(\"\\n--- Starting Hyperparameter Tuning ---\")\n",
        "\n",
        "knn = KNeighborsClassifier()\n",
        "param_grid = {'n_neighbors':range(1,21,2)}\n",
        "grid_search = GridSearchCV(estimator=knn, param_grid=param_grid, cv=5, scoring='accuracy', n_jobs=-1,return_train_score=True)\n",
        "grid_search.fit(X_train_scaled,y_train)\n",
        "\n",
        "print(\"--- Hyperparameter Tuning Complete ---\")\n",
        "print(\"\\nBest parameters found:\", grid_search.best_params_)\n",
        "print(\"Best cross-validation score:\", grid_search.best_score_)\n"
      ],
      "metadata": {
        "colab": {
          "base_uri": "https://localhost:8080/"
        },
        "id": "LSuN4Olng05i",
        "outputId": "26188429-4388-44eb-be70-773fa3558775"
      },
      "execution_count": null,
      "outputs": [
        {
          "output_type": "stream",
          "name": "stdout",
          "text": [
            "\n",
            "--- Starting Hyperparameter Tuning ---\n",
            "--- Hyperparameter Tuning Complete ---\n",
            "\n",
            "Best parameters found: {'n_neighbors': 13}\n",
            "Best cross-validation score: 0.9788177339901478\n"
          ]
        }
      ]
    },
    {
      "cell_type": "code",
      "source": [
        "best_knn_model = grid_search.best_estimator_\n",
        "print(\"\\nBest tuned KNN model ready.\")\n",
        "\n",
        "results = pd.DataFrame(grid_search.cv_results_)\n",
        "plt.figure(figsize=(8, 6))\n",
        "plt.plot(results['param_n_neighbors'], results['mean_test_score'], marker='o')\n",
        "plt.xlabel('n_neighbors')\n",
        "plt.ylabel('Mean Cross-Validation Accuracy')\n",
        "plt.title('KNN n_neighbors Tuning Results on Scaled Data')\n",
        "plt.grid(True)\n",
        "plt.show()"
      ],
      "metadata": {
        "id": "2nC9YuxvSHJ2",
        "colab": {
          "base_uri": "https://localhost:8080/",
          "height": 601
        },
        "outputId": "b209bf57-e1d4-43e1-bd3b-d224b65f49b2"
      },
      "execution_count": null,
      "outputs": [
        {
          "output_type": "stream",
          "name": "stdout",
          "text": [
            "\n",
            "Best tuned KNN model ready.\n"
          ]
        },
        {
          "output_type": "display_data",
          "data": {
            "text/plain": [
              "<Figure size 800x600 with 1 Axes>"
            ],
            "image/png": "[encoded data removed]"
          },
          "metadata": {}
        }
      ]
    },
    {
      "cell_type": "markdown",
      "source": [
        "### 4 Evaluation (5 points)\n",
        "- Calculate training/test accuracy or make a decision boundary plot based on various k values. (2 points)\n",
        "\n",
        "- Write a simple interpretation of which k value gives the best performance. (3 points)"
      ],
      "metadata": {
        "id": "I18nf7149HUk"
      }
    },
    {
      "cell_type": "code",
      "source": [
        "results = pd.DataFrame(grid_search.cv_results_)\n",
        "tuning_accuracy_results = results[['param_n_neighbors', 'mean_train_score', 'mean_test_score', 'std_test_score']]\n",
        "tuning_accuracy_results.columns = ['n_neighbors', 'Mean Train Accuracy (CV)', 'Mean Validation Accuracy (CV)', 'Std Validation Accuracy (CV)']\n",
        "tuning_accuracy_results = tuning_accuracy_results.sort_values(by='n_neighbors')\n",
        "print(\"--- training/test accuracy or make a decision boundary plot based on various k values ---\")\n",
        "print(tuning_accuracy_results)"
      ],
      "metadata": {
        "colab": {
          "base_uri": "https://localhost:8080/"
        },
        "id": "pJumD4PEk9Lp",
        "outputId": "f37a1925-b625-4ec7-f0c5-f8bc44574bd4"
      },
      "execution_count": null,
      "outputs": [
        {
          "output_type": "stream",
          "name": "stdout",
          "text": [
            "--- training/test accuracy or make a decision boundary plot based on various k values ---\n",
            "   n_neighbors  ...  Std Validation Accuracy (CV)\n",
            "0            1  ...                      0.035228\n",
            "1            3  ...                      0.017118\n",
            "2            5  ...                      0.014050\n",
            "3            7  ...                      0.013432\n",
            "4            9  ...                      0.021817\n",
            "5           11  ...                      0.021817\n",
            "6           13  ...                      0.017301\n",
            "7           15  ...                      0.017301\n",
            "8           17  ...                      0.014171\n",
            "9           19  ...                      0.014171\n",
            "\n",
            "[10 rows x 4 columns]\n"
          ]
        }
      ]
    },
    {
      "cell_type": "markdown",
      "source": [
        "Your interpretation of the optimal k value (3 points):\n",
        "\n",
        "Based on the cross-validation results, the n_neighbors values that achieved the highest mean validation accuracy (Mean Validation Accuracy) are 13 and 15, both reaching approximately 0.980 on the graph.\n",
        "\n",
        "These values (13 and 15) exhibit high mean accuracy while maintaining a relatively low standard deviation of validation accuracy (Std Validation Accuracy) at 0.017301, compared to 0.035228 for n_neighbors = 1, indicating stable model performance.\n",
        "\n",
        "Considering both high average performance and stability, 13 and 15 are the optimal n_neighbors candidates. Grid Search selected 13 as the final optimal value, likely because a smaller k value reduces model complexity and the risk of overfitting."
      ],
      "metadata": {
        "id": "EJMm3WruL1iN"
      }
    },
    {
      "cell_type": "markdown",
      "source": [
        "\n",
        "\n",
        "---\n",
        "\n"
      ],
      "metadata": {
        "id": "uYRuuXj6NOFP"
      }
    },
    {
      "cell_type": "markdown",
      "source": [
        "## **Assignment 2. Naive Bayes** (10 points)\n",
        "\n",
        "Scikit-learn offers a dataset called Twenty Newsgroups, which contains 18,846 newsgroup posts on 20 different topics. Solve this task using the Naive Bayes model.\n",
        "\n",
        "Code for preparing the 20newsgroup data will be provided."
      ],
      "metadata": {
        "id": "nSfZTkeb_zxM"
      }
    },
    {
      "cell_type": "markdown",
      "source": [
        "### 1 Data Load and Preprocessing (2 points)"
      ],
      "metadata": {
        "id": "p0JZUo0wDwtV"
      }
    },
    {
      "cell_type": "code",
      "source": [
        "from sklearn.datasets import fetch_20newsgroups\n",
        "newsdata = fetch_20newsgroups(subset='train')\n",
        "newsdata_test = fetch_20newsgroups(subset='test', shuffle=True)"
      ],
      "metadata": {
        "id": "gWstqsxj_k85"
      },
      "execution_count": 1,
      "outputs": []
    },
    {
      "cell_type": "code",
      "source": [
        "# Define a regular expression and cleanse the train and test text so that only letters remain.\n",
        "import re\n",
        "\n",
        "train_text = []\n",
        "for text in newsdata.data:\n",
        "    cleaned_text = re.sub(r'[^a-zA-Z ]', '', text)\n",
        "    train_text.append(cleaned_text)\n",
        "\n",
        "test_text = []\n",
        "for text in newsdata_test.data:\n",
        "    cleaned_text = re.sub(r'[^a-zA-Z ]', '', text)\n",
        "    test_text.append(cleaned_text)"
      ],
      "metadata": {
        "id": "19g9pDuoFrRd"
      },
      "execution_count": 4,
      "outputs": []
    },
    {
      "cell_type": "code",
      "source": [
        "# Convert uppercase letters to lowercase.\n",
        "train_text = [text.lower() for text in train_text]\n",
        "test_text = [text.lower() for text in test_text]"
      ],
      "metadata": {
        "id": "i45mp7UhGn7E"
      },
      "execution_count": 5,
      "outputs": []
    },
    {
      "cell_type": "code",
      "source": [
        "# Check the data.\n",
        "\n",
        "print(f\"--- 1 Data Load and Preprocessing: Data Validation Checks ---\")\n",
        "\n",
        "print(f\"\\nChecking Data Types:\")\n",
        "print(f\"Type of newsdata object: {type(newsdata)}\")\n",
        "print(f\"Type of newsdata.data: {type(newsdata.data)}\")\n",
        "print(f\"Type of newsdata.target: {type(newsdata.target)}\")\n",
        "print(f\"Type of train_text list: {type(train_text)}\")\n",
        "print(f\"Type of elements in train_text (first 5): {[type(t) for t in train_text[:5]]}\")\n",
        "\n",
        "print(f\"Type of newsdata_test object: {type(newsdata_test)}\")\n",
        "print(f\"Type of newsdata_test.data: {type(newsdata_test.data)}\")\n",
        "print(f\"Type of newsdata_test.target: {type(newsdata_test.target)}\")\n",
        "print(f\"Type of test_text list: {type(test_text)}\")\n",
        "print(f\"Type of elements in test_text (first 5): {[type(t) for t in test_text[:5]]}\")\n",
        "\n",
        "print(f\"\\nChecking Data Count Consistency:\")\n",
        "train_data_count = len(newsdata.data)\n",
        "train_text_count = len(train_text)\n",
        "train_target_count = len(newsdata.target)\n",
        "\n",
        "test_data_count = len(newsdata_test.data)\n",
        "test_text_count = len(test_text)\n",
        "test_target_count = len(newsdata_test.target)\n",
        "\n",
        "print(f\"Train Counts: newsdata.data={train_data_count}, train_text={train_text_count}, newsdata.target={train_target_count}\")\n",
        "print(f\"Test Counts: newsdata_test.data={test_data_count}, test_text={test_text_count}, newsdata_test.target={test_target_count}\")\n",
        "\n",
        "if train_data_count == train_text_count == train_target_count:\n",
        "    print(\"Train data counts are consistent.\")\n",
        "else:\n",
        "    print(\"Warning: Train data counts are inconsistent!\")\n",
        "\n",
        "if test_data_count == test_text_count == test_target_count:\n",
        "    print(\"Test data counts are consistent.\")\n",
        "else:\n",
        "     print(\"Warning: Test data counts are inconsistent!\")\n",
        "\n",
        "print(f\"\\nChecking Target Value Range:\")\n",
        "print(f\"Train Target Min/Max: {newsdata.target.min()} / {newsdata.target.max()}\")\n",
        "print(f\"Test Target Min/Max: {newsdata_test.target.min()} / {newsdata_test.target.max()}\")\n",
        "print(f\"Total number of target classes: {len(newsdata.target_names)}\")\n",
        "\n",
        "print(f\"\\nChecking Sample Text Validity:\")\n",
        "sample_indices_train = [0, min(5, len(train_text)-1)]\n",
        "sample_indices_test = [0, min(5, len(test_text)-1)]\n",
        "\n",
        "for idx in sample_indices_train:\n",
        "    if len(train_text[idx].strip()) == 0:\n",
        "        print(f\"Warning: Train sample #{idx} is empty after preprocessing!\")\n",
        "    else:\n",
        "        print(f\"Train sample #{idx} text length: {len(train_text[idx].strip())} (first 50 chars: {train_text[idx][:50]})\")\n",
        "\n",
        "for idx in sample_indices_test:\n",
        "     if len(test_text[idx].strip()) == 0:\n",
        "         print(f\"Warning: Test sample #{idx} is empty after preprocessing!\")\n",
        "     else:\n",
        "         print(f\"Test sample #{idx} text length: {len(test_text[idx].strip())} (first 50 chars: {test_text[idx][:50]})\")\n",
        "\n",
        "print(f\"\\n--- Data Validation Checks Complete ---\")"
      ],
      "metadata": {
        "id": "ABBdq6xeG0xh",
        "colab": {
          "base_uri": "https://localhost:8080/"
        },
        "outputId": "9cb12d79-b08f-469c-bcb3-08b09a767492"
      },
      "execution_count": 7,
      "outputs": [
        {
          "output_type": "stream",
          "name": "stdout",
          "text": [
            "--- 1 Data Load and Preprocessing: Data Validation Checks ---\n",
            "\n",
            "Checking Data Types:\n",
            "Type of newsdata object: <class 'sklearn.utils._bunch.Bunch'>\n",
            "Type of newsdata.data: <class 'list'>\n",
            "Type of newsdata.target: <class 'numpy.ndarray'>\n",
            "Type of train_text list: <class 'list'>\n",
            "Type of elements in train_text (first 5): [<class 'str'>, <class 'str'>, <class 'str'>, <class 'str'>, <class 'str'>]\n",
            "Type of newsdata_test object: <class 'sklearn.utils._bunch.Bunch'>\n",
            "Type of newsdata_test.data: <class 'list'>\n",
            "Type of newsdata_test.target: <class 'numpy.ndarray'>\n",
            "Type of test_text list: <class 'list'>\n",
            "Type of elements in test_text (first 5): [<class 'str'>, <class 'str'>, <class 'str'>, <class 'str'>, <class 'str'>]\n",
            "\n",
            "Checking Data Count Consistency:\n",
            "Train Counts: newsdata.data=11314, train_text=11314, newsdata.target=11314\n",
            "Test Counts: newsdata_test.data=7532, test_text=7532, newsdata_test.target=7532\n",
            "Train data counts are consistent.\n",
            "Test data counts are consistent.\n",
            "\n",
            "Checking Target Value Range:\n",
            "Train Target Min/Max: 0 / 19\n",
            "Test Target Min/Max: 0 / 19\n",
            "Total number of target classes: 20\n",
            "\n",
            "Checking Sample Text Validity:\n",
            "Train sample #0 text length: 644 (first 50 chars: from lerxstwamumdedu wheres my thingsubject what c)\n",
            "Train sample #5 text length: 2302 (first 50 chars: from dfovttoulutkovttfi foxvog douglassubject re r)\n",
            "Test sample #0 text length: 625 (first 50 chars: from vmbkubvmsdccbuffaloedu neil b gandlersubject )\n",
            "Test sample #5 text length: 4678 (first 50 chars: from banschbachvmsocomokstateedusubject re candida)\n",
            "\n",
            "--- Data Validation Checks Complete ---\n"
          ]
        }
      ]
    },
    {
      "cell_type": "markdown",
      "source": [
        "### 2 Train/Test Split\n",
        "- Split the dataset into train and test sets."
      ],
      "metadata": {
        "id": "v-IEmtVuM-x3"
      }
    },
    {
      "cell_type": "code",
      "source": [
        "# Split the dataset\n",
        "print(f\"\\n--- 2 Train/Test Split ---\")\n",
        "print(f\"Data has already been split into training and test sets during loading.\")\n",
        "\n",
        "print(f\"\\nTraining Set Size: {len(newsdata.data)} news articles\")\n",
        "print(f\"Test Set Size: {len(newsdata_test.data)} news articles\")\n",
        "\n",
        "print(f\"\\nTraining Data Variable: 'newsdata' (contains .data and .target)\")\n",
        "print(f\"Test Data Variable: 'newsdata_test' (contains .data and .target)\")\n",
        "print(f\"Preprocessed Training Text: 'train_text' (list)\")\n",
        "print(f\"Preprocessed Test Text: 'test_text' (list)\")\n",
        "print(f\"Training Targets: 'newsdata.target'\")\n",
        "print(f\"Test Targets: 'newsdata_test.target'\")"
      ],
      "metadata": {
        "id": "4b_lYgUdNFFF",
        "colab": {
          "base_uri": "https://localhost:8080/"
        },
        "outputId": "fba8e251-5914-4bc4-ca12-0062f1231e6d"
      },
      "execution_count": 8,
      "outputs": [
        {
          "output_type": "stream",
          "name": "stdout",
          "text": [
            "\n",
            "--- 2 Train/Test Split ---\n",
            "Data has already been split into training and test sets during loading.\n",
            "\n",
            "Training Set Size: 11314 news articles\n",
            "Test Set Size: 7532 news articles\n",
            "\n",
            "Training Data Variable: 'newsdata' (contains .data and .target)\n",
            "Test Data Variable: 'newsdata_test' (contains .data and .target)\n",
            "Preprocessed Training Text: 'train_text' (list)\n",
            "Preprocessed Test Text: 'test_text' (list)\n",
            "Training Targets: 'newsdata.target'\n",
            "Test Targets: 'newsdata_test.target'\n"
          ]
        }
      ]
    },
    {
      "cell_type": "markdown",
      "source": [
        "### 3 Count Vectorize (3 points)\n"
      ],
      "metadata": {
        "id": "Y0Em6oJaD_l9"
      }
    },
    {
      "cell_type": "markdown",
      "source": [
        "#### 3.1 word tokenize"
      ],
      "metadata": {
        "id": "Qhz4KQqNEHJ7"
      }
    },
    {
      "cell_type": "code",
      "source": [
        "# Import the necessary package for word tokenization.\n",
        "import nltk\n",
        "\n",
        "try:\n",
        "    nltk.data.find('tokenizers/punkt')\n",
        "except LookupError:\n",
        "    nltk.download('punkt')"
      ],
      "metadata": {
        "id": "e4KlGMSeEOt0",
        "colab": {
          "base_uri": "https://localhost:8080/"
        },
        "outputId": "9cc3a340-de8c-43cb-a79c-d499339a5d08"
      },
      "execution_count": 10,
      "outputs": [
        {
          "output_type": "stream",
          "name": "stderr",
          "text": [
            "[nltk_data] Downloading package punkt to /root/nltk_data...\n",
            "[nltk_data]   Unzipping tokenizers/punkt.zip.\n"
          ]
        }
      ]
    },
    {
      "cell_type": "markdown",
      "source": [
        "#### 3.2 count vectorize"
      ],
      "metadata": {
        "id": "pfpYYmH4EJZL"
      }
    },
    {
      "cell_type": "code",
      "source": [
        "# Import Count Vectorizer from scikit-learn.\n",
        "from sklearn.feature_extraction.text import CountVectorizer"
      ],
      "metadata": {
        "id": "AjxsROCDDidK"
      },
      "execution_count": 11,
      "outputs": []
    },
    {
      "cell_type": "code",
      "source": [
        "def simple_word_tokenizer(text):\n",
        "    return text.split()"
      ],
      "metadata": {
        "id": "oDrNpH085nQN"
      },
      "execution_count": 13,
      "outputs": []
    },
    {
      "cell_type": "code",
      "source": [
        "# Declare a count vectorizer that uses word_tokenize.\n",
        "vectorizer = CountVectorizer(tokenizer=simple_word_tokenizer, max_features=20000)\n",
        "print(f\"  - tokenizer: simple_word_tokenizer\")\n",
        "print(f\"  - (max_features): {vectorizer.max_features}\")"
      ],
      "metadata": {
        "id": "ftnmfoe3EmAy",
        "colab": {
          "base_uri": "https://localhost:8080/"
        },
        "outputId": "6ad3fb3e-089c-4d31-8449-0c720fa9bd21"
      },
      "execution_count": 14,
      "outputs": [
        {
          "output_type": "stream",
          "name": "stdout",
          "text": [
            "  - tokenizer: simple_word_tokenizer\n",
            "  - (max_features): 20000\n"
          ]
        }
      ]
    },
    {
      "cell_type": "code",
      "source": [
        "# Train the count vectorizer.\n",
        "vectorizer.fit(train_text)\n",
        "print(\"CountVectorizer 🚈 Comeplete.\")"
      ],
      "metadata": {
        "id": "y9UFMOIxEtDF",
        "colab": {
          "base_uri": "https://localhost:8080/"
        },
        "outputId": "cc47bb6f-c288-44b0-a8ad-a00a77be8d7e"
      },
      "execution_count": 15,
      "outputs": [
        {
          "output_type": "stream",
          "name": "stderr",
          "text": [
            "/usr/local/lib/python3.11/dist-packages/sklearn/feature_extraction/text.py:517: UserWarning: The parameter 'token_pattern' will not be used since 'tokenizer' is not None'\n",
            "  warnings.warn(\n"
          ]
        },
        {
          "output_type": "stream",
          "name": "stdout",
          "text": [
            "CountVectorizer 🚈 Comeplete.\n"
          ]
        }
      ]
    },
    {
      "cell_type": "code",
      "source": [
        "# Check the total number of words.\n",
        "\n",
        "learned_words = vectorizer.get_feature_names_out()\n",
        "\n",
        "total_words = len(learned_words)\n",
        "\n",
        "print(f\"Total_words: {total_words}\")\n",
        "\n",
        "print(f\"CountVectorizer  max_features: {vectorizer.max_features}\")\n",
        "if total_words <= vectorizer.max_features:\n",
        "     print(\"Good.\")\n",
        "else:\n",
        "     print(\"No Good\")\n",
        "\n",
        "print(\"\\n learend_wrods Example :\")\n",
        "print(learned_words[:20])"
      ],
      "metadata": {
        "id": "PZSeIxRKE5_T",
        "colab": {
          "base_uri": "https://localhost:8080/"
        },
        "outputId": "f35e8abf-db77-4db5-ede8-9e1e42d45219"
      },
      "execution_count": 17,
      "outputs": [
        {
          "output_type": "stream",
          "name": "stdout",
          "text": [
            "Total_words: 20000\n",
            "CountVectorizer  max_features: 20000\n",
            "Good.\n",
            "\n",
            " learend_wrods Example :\n",
            "['a' 'aa' 'aaa' 'aafreenetcarletonca' 'aainetgwpadeccom' 'aamir' 'aario'\n",
            " 'aaron' 'aaspocwruedu' 'ab' 'abad' 'abandon' 'abandoned' 'abate'\n",
            " 'abbreviation' 'abc' 'abclevelandfreenetedu' 'abdul' 'aberystwythlines'\n",
            " 'abetter']\n"
          ]
        }
      ]
    },
    {
      "cell_type": "code",
      "source": [
        "# Transform the train text and test text.\n",
        "X_train_counts = vectorizer.transform(train_text)\n",
        "X_test_counts = vectorizer.transform(test_text)\n",
        "\n",
        "print(f\"\\n Train Counts: {X_train_counts.shape}\")\n",
        "print(f\"Test Counts: {X_test_counts.shape}\")"
      ],
      "metadata": {
        "id": "lDe0lUAPFCt-",
        "colab": {
          "base_uri": "https://localhost:8080/"
        },
        "outputId": "2091409d-8b76-4fc4-de79-80f4d2fd0ffc"
      },
      "execution_count": 18,
      "outputs": [
        {
          "output_type": "stream",
          "name": "stdout",
          "text": [
            "\n",
            " Train Counts: (11314, 20000)\n",
            "Test Counts: (7532, 20000)\n"
          ]
        }
      ]
    },
    {
      "cell_type": "markdown",
      "source": [
        "### 4 Naive Bayes (5 points)"
      ],
      "metadata": {
        "id": "VPwj7VeNFR54"
      }
    },
    {
      "cell_type": "code",
      "source": [
        "# Import the appropriate naive bayes model and define the model.\n",
        "from sklearn.naive_bayes import MultinomialNB\n",
        "naive_bayes_model = MultinomialNB(alpha=1.0)"
      ],
      "metadata": {
        "id": "7QCPAqhZFNlC"
      },
      "execution_count": 19,
      "outputs": []
    },
    {
      "cell_type": "code",
      "source": [
        "# Train the model.\n",
        "naive_bayes_model.fit(X_train_counts, newsdata.target)"
      ],
      "metadata": {
        "id": "XFAOmyTkHZUp",
        "colab": {
          "base_uri": "https://localhost:8080/",
          "height": 80
        },
        "outputId": "a3ac4ef4-5ffd-4dae-99db-860b37307b46"
      },
      "execution_count": 20,
      "outputs": [
        {
          "output_type": "execute_result",
          "data": {
            "text/plain": [
              "MultinomialNB()"
            ],
            "text/html": [
              "<style>#sk-container-id-1 {\n",
              "  /* Definition of color scheme common for light and dark mode */\n",
              "  --sklearn-color-text: #000;\n",
              "  --sklearn-color-text-muted: #666;\n",
              "  --sklearn-color-line: gray;\n",
              "  /* Definition of color scheme for unfitted estimators */\n",
              "  --sklearn-color-unfitted-level-0: #fff5e6;\n",
              "  --sklearn-color-unfitted-level-1: #f6e4d2;\n",
              "  --sklearn-color-unfitted-level-2: #ffe0b3;\n",
              "  --sklearn-color-unfitted-level-3: chocolate;\n",
              "  /* Definition of color scheme for fitted estimators */\n",
              "  --sklearn-color-fitted-level-0: #f0f8ff;\n",
              "  --sklearn-color-fitted-level-1: #d4ebff;\n",
              "  --sklearn-color-fitted-level-2: #b3dbfd;\n",
              "  --sklearn-color-fitted-level-3: cornflowerblue;\n",
              "\n",
              "  /* Specific color for light theme */\n",
              "  --sklearn-color-text-on-default-background: var(--sg-text-color, var(--theme-code-foreground, var(--jp-content-font-color1, black)));\n",
              "  --sklearn-color-background: var(--sg-background-color, var(--theme-background, var(--jp-layout-color0, white)));\n",
              "  --sklearn-color-border-box: var(--sg-text-color, var(--theme-code-foreground, var(--jp-content-font-color1, black)));\n",
              "  --sklearn-color-icon: #696969;\n",
              "\n",
              "  @media (prefers-color-scheme: dark) {\n",
              "    /* Redefinition of color scheme for dark theme */\n",
              "    --sklearn-color-text-on-default-background: var(--sg-text-color, var(--theme-code-foreground, var(--jp-content-font-color1, white)));\n",
              "    --sklearn-color-background: var(--sg-background-color, var(--theme-background, var(--jp-layout-color0, #111)));\n",
              "    --sklearn-color-border-box: var(--sg-text-color, var(--theme-code-foreground, var(--jp-content-font-color1, white)));\n",
              "    --sklearn-color-icon: #878787;\n",
              "  }\n",
              "}\n",
              "\n",
              "#sk-container-id-1 {\n",
              "  color: var(--sklearn-color-text);\n",
              "}\n",
              "\n",
              "#sk-container-id-1 pre {\n",
              "  padding: 0;\n",
              "}\n",
              "\n",
              "#sk-container-id-1 input.sk-hidden--visually {\n",
              "  border: 0;\n",
              "  clip: rect(1px 1px 1px 1px);\n",
              "  clip: rect(1px, 1px, 1px, 1px);\n",
              "  height: 1px;\n",
              "  margin: -1px;\n",
              "  overflow: hidden;\n",
              "  padding: 0;\n",
              "  position: absolute;\n",
              "  width: 1px;\n",
              "}\n",
              "\n",
              "#sk-container-id-1 div.sk-dashed-wrapped {\n",
              "  border: 1px dashed var(--sklearn-color-line);\n",
              "  margin: 0 0.4em 0.5em 0.4em;\n",
              "  box-sizing: border-box;\n",
              "  padding-bottom: 0.4em;\n",
              "  background-color: var(--sklearn-color-background);\n",
              "}\n",
              "\n",
              "#sk-container-id-1 div.sk-container {\n",
              "  /* jupyter's `normalize.less` sets `[hidden] { display: none; }`\n",
              "     but bootstrap.min.css set `[hidden] { display: none !important; }`\n",
              "     so we also need the `!important` here to be able to override the\n",
              "     default hidden behavior on the sphinx rendered scikit-learn.org.\n",
              "     See: https://github.com/scikit-learn/scikit-learn/issues/21755 */\n",
              "  display: inline-block !important;\n",
              "  position: relative;\n",
              "}\n",
              "\n",
              "#sk-container-id-1 div.sk-text-repr-fallback {\n",
              "  display: none;\n",
              "}\n",
              "\n",
              "div.sk-parallel-item,\n",
              "div.sk-serial,\n",
              "div.sk-item {\n",
              "  /* draw centered vertical line to link estimators */\n",
              "  background-image: linear-gradient(var(--sklearn-color-text-on-default-background), var(--sklearn-color-text-on-default-background));\n",
              "  background-size: 2px 100%;\n",
              "  background-repeat: no-repeat;\n",
              "  background-position: center center;\n",
              "}\n",
              "\n",
              "/* Parallel-specific style estimator block */\n",
              "\n",
              "#sk-container-id-1 div.sk-parallel-item::after {\n",
              "  content: \"\";\n",
              "  width: 100%;\n",
              "  border-bottom: 2px solid var(--sklearn-color-text-on-default-background);\n",
              "  flex-grow: 1;\n",
              "}\n",
              "\n",
              "#sk-container-id-1 div.sk-parallel {\n",
              "  display: flex;\n",
              "  align-items: stretch;\n",
              "  justify-content: center;\n",
              "  background-color: var(--sklearn-color-background);\n",
              "  position: relative;\n",
              "}\n",
              "\n",
              "#sk-container-id-1 div.sk-parallel-item {\n",
              "  display: flex;\n",
              "  flex-direction: column;\n",
              "}\n",
              "\n",
              "#sk-container-id-1 div.sk-parallel-item:first-child::after {\n",
              "  align-self: flex-end;\n",
              "  width: 50%;\n",
              "}\n",
              "\n",
              "#sk-container-id-1 div.sk-parallel-item:last-child::after {\n",
              "  align-self: flex-start;\n",
              "  width: 50%;\n",
              "}\n",
              "\n",
              "#sk-container-id-1 div.sk-parallel-item:only-child::after {\n",
              "  width: 0;\n",
              "}\n",
              "\n",
              "/* Serial-specific style estimator block */\n",
              "\n",
              "#sk-container-id-1 div.sk-serial {\n",
              "  display: flex;\n",
              "  flex-direction: column;\n",
              "  align-items: center;\n",
              "  background-color: var(--sklearn-color-background);\n",
              "  padding-right: 1em;\n",
              "  padding-left: 1em;\n",
              "}\n",
              "\n",
              "\n",
              "/* Toggleable style: style used for estimator/Pipeline/ColumnTransformer box that is\n",
              "clickable and can be expanded/collapsed.\n",
              "- Pipeline and ColumnTransformer use this feature and define the default style\n",
              "- Estimators will overwrite some part of the style using the `sk-estimator` class\n",
              "*/\n",
              "\n",
              "/* Pipeline and ColumnTransformer style (default) */\n",
              "\n",
              "#sk-container-id-1 div.sk-toggleable {\n",
              "  /* Default theme specific background. It is overwritten whether we have a\n",
              "  specific estimator or a Pipeline/ColumnTransformer */\n",
              "  background-color: var(--sklearn-color-background);\n",
              "}\n",
              "\n",
              "/* Toggleable label */\n",
              "#sk-container-id-1 label.sk-toggleable__label {\n",
              "  cursor: pointer;\n",
              "  display: flex;\n",
              "  width: 100%;\n",
              "  margin-bottom: 0;\n",
              "  padding: 0.5em;\n",
              "  box-sizing: border-box;\n",
              "  text-align: center;\n",
              "  align-items: start;\n",
              "  justify-content: space-between;\n",
              "  gap: 0.5em;\n",
              "}\n",
              "\n",
              "#sk-container-id-1 label.sk-toggleable__label .caption {\n",
              "  font-size: 0.6rem;\n",
              "  font-weight: lighter;\n",
              "  color: var(--sklearn-color-text-muted);\n",
              "}\n",
              "\n",
              "#sk-container-id-1 label.sk-toggleable__label-arrow:before {\n",
              "  /* Arrow on the left of the label */\n",
              "  content: \"▸\";\n",
              "  float: left;\n",
              "  margin-right: 0.25em;\n",
              "  color: var(--sklearn-color-icon);\n",
              "}\n",
              "\n",
              "#sk-container-id-1 label.sk-toggleable__label-arrow:hover:before {\n",
              "  color: var(--sklearn-color-text);\n",
              "}\n",
              "\n",
              "/* Toggleable content - dropdown */\n",
              "\n",
              "#sk-container-id-1 div.sk-toggleable__content {\n",
              "  max-height: 0;\n",
              "  max-width: 0;\n",
              "  overflow: hidden;\n",
              "  text-align: left;\n",
              "  /* unfitted */\n",
              "  background-color: var(--sklearn-color-unfitted-level-0);\n",
              "}\n",
              "\n",
              "#sk-container-id-1 div.sk-toggleable__content.fitted {\n",
              "  /* fitted */\n",
              "  background-color: var(--sklearn-color-fitted-level-0);\n",
              "}\n",
              "\n",
              "#sk-container-id-1 div.sk-toggleable__content pre {\n",
              "  margin: 0.2em;\n",
              "  border-radius: 0.25em;\n",
              "  color: var(--sklearn-color-text);\n",
              "  /* unfitted */\n",
              "  background-color: var(--sklearn-color-unfitted-level-0);\n",
              "}\n",
              "\n",
              "#sk-container-id-1 div.sk-toggleable__content.fitted pre {\n",
              "  /* unfitted */\n",
              "  background-color: var(--sklearn-color-fitted-level-0);\n",
              "}\n",
              "\n",
              "#sk-container-id-1 input.sk-toggleable__control:checked~div.sk-toggleable__content {\n",
              "  /* Expand drop-down */\n",
              "  max-height: 200px;\n",
              "  max-width: 100%;\n",
              "  overflow: auto;\n",
              "}\n",
              "\n",
              "#sk-container-id-1 input.sk-toggleable__control:checked~label.sk-toggleable__label-arrow:before {\n",
              "  content: \"▾\";\n",
              "}\n",
              "\n",
              "/* Pipeline/ColumnTransformer-specific style */\n",
              "\n",
              "#sk-container-id-1 div.sk-label input.sk-toggleable__control:checked~label.sk-toggleable__label {\n",
              "  color: var(--sklearn-color-text);\n",
              "  background-color: var(--sklearn-color-unfitted-level-2);\n",
              "}\n",
              "\n",
              "#sk-container-id-1 div.sk-label.fitted input.sk-toggleable__control:checked~label.sk-toggleable__label {\n",
              "  background-color: var(--sklearn-color-fitted-level-2);\n",
              "}\n",
              "\n",
              "/* Estimator-specific style */\n",
              "\n",
              "/* Colorize estimator box */\n",
              "#sk-container-id-1 div.sk-estimator input.sk-toggleable__control:checked~label.sk-toggleable__label {\n",
              "  /* unfitted */\n",
              "  background-color: var(--sklearn-color-unfitted-level-2);\n",
              "}\n",
              "\n",
              "#sk-container-id-1 div.sk-estimator.fitted input.sk-toggleable__control:checked~label.sk-toggleable__label {\n",
              "  /* fitted */\n",
              "  background-color: var(--sklearn-color-fitted-level-2);\n",
              "}\n",
              "\n",
              "#sk-container-id-1 div.sk-label label.sk-toggleable__label,\n",
              "#sk-container-id-1 div.sk-label label {\n",
              "  /* The background is the default theme color */\n",
              "  color: var(--sklearn-color-text-on-default-background);\n",
              "}\n",
              "\n",
              "/* On hover, darken the color of the background */\n",
              "#sk-container-id-1 div.sk-label:hover label.sk-toggleable__label {\n",
              "  color: var(--sklearn-color-text);\n",
              "  background-color: var(--sklearn-color-unfitted-level-2);\n",
              "}\n",
              "\n",
              "/* Label box, darken color on hover, fitted */\n",
              "#sk-container-id-1 div.sk-label.fitted:hover label.sk-toggleable__label.fitted {\n",
              "  color: var(--sklearn-color-text);\n",
              "  background-color: var(--sklearn-color-fitted-level-2);\n",
              "}\n",
              "\n",
              "/* Estimator label */\n",
              "\n",
              "#sk-container-id-1 div.sk-label label {\n",
              "  font-family: monospace;\n",
              "  font-weight: bold;\n",
              "  display: inline-block;\n",
              "  line-height: 1.2em;\n",
              "}\n",
              "\n",
              "#sk-container-id-1 div.sk-label-container {\n",
              "  text-align: center;\n",
              "}\n",
              "\n",
              "/* Estimator-specific */\n",
              "#sk-container-id-1 div.sk-estimator {\n",
              "  font-family: monospace;\n",
              "  border: 1px dotted var(--sklearn-color-border-box);\n",
              "  border-radius: 0.25em;\n",
              "  box-sizing: border-box;\n",
              "  margin-bottom: 0.5em;\n",
              "  /* unfitted */\n",
              "  background-color: var(--sklearn-color-unfitted-level-0);\n",
              "}\n",
              "\n",
              "#sk-container-id-1 div.sk-estimator.fitted {\n",
              "  /* fitted */\n",
              "  background-color: var(--sklearn-color-fitted-level-0);\n",
              "}\n",
              "\n",
              "/* on hover */\n",
              "#sk-container-id-1 div.sk-estimator:hover {\n",
              "  /* unfitted */\n",
              "  background-color: var(--sklearn-color-unfitted-level-2);\n",
              "}\n",
              "\n",
              "#sk-container-id-1 div.sk-estimator.fitted:hover {\n",
              "  /* fitted */\n",
              "  background-color: var(--sklearn-color-fitted-level-2);\n",
              "}\n",
              "\n",
              "/* Specification for estimator info (e.g. \"i\" and \"?\") */\n",
              "\n",
              "/* Common style for \"i\" and \"?\" */\n",
              "\n",
              ".sk-estimator-doc-link,\n",
              "a:link.sk-estimator-doc-link,\n",
              "a:visited.sk-estimator-doc-link {\n",
              "  float: right;\n",
              "  font-size: smaller;\n",
              "  line-height: 1em;\n",
              "  font-family: monospace;\n",
              "  background-color: var(--sklearn-color-background);\n",
              "  border-radius: 1em;\n",
              "  height: 1em;\n",
              "  width: 1em;\n",
              "  text-decoration: none !important;\n",
              "  margin-left: 0.5em;\n",
              "  text-align: center;\n",
              "  /* unfitted */\n",
              "  border: var(--sklearn-color-unfitted-level-1) 1pt solid;\n",
              "  color: var(--sklearn-color-unfitted-level-1);\n",
              "}\n",
              "\n",
              ".sk-estimator-doc-link.fitted,\n",
              "a:link.sk-estimator-doc-link.fitted,\n",
              "a:visited.sk-estimator-doc-link.fitted {\n",
              "  /* fitted */\n",
              "  border: var(--sklearn-color-fitted-level-1) 1pt solid;\n",
              "  color: var(--sklearn-color-fitted-level-1);\n",
              "}\n",
              "\n",
              "/* On hover */\n",
              "div.sk-estimator:hover .sk-estimator-doc-link:hover,\n",
              ".sk-estimator-doc-link:hover,\n",
              "div.sk-label-container:hover .sk-estimator-doc-link:hover,\n",
              ".sk-estimator-doc-link:hover {\n",
              "  /* unfitted */\n",
              "  background-color: var(--sklearn-color-unfitted-level-3);\n",
              "  color: var(--sklearn-color-background);\n",
              "  text-decoration: none;\n",
              "}\n",
              "\n",
              "div.sk-estimator.fitted:hover .sk-estimator-doc-link.fitted:hover,\n",
              ".sk-estimator-doc-link.fitted:hover,\n",
              "div.sk-label-container:hover .sk-estimator-doc-link.fitted:hover,\n",
              ".sk-estimator-doc-link.fitted:hover {\n",
              "  /* fitted */\n",
              "  background-color: var(--sklearn-color-fitted-level-3);\n",
              "  color: var(--sklearn-color-background);\n",
              "  text-decoration: none;\n",
              "}\n",
              "\n",
              "/* Span, style for the box shown on hovering the info icon */\n",
              ".sk-estimator-doc-link span {\n",
              "  display: none;\n",
              "  z-index: 9999;\n",
              "  position: relative;\n",
              "  font-weight: normal;\n",
              "  right: .2ex;\n",
              "  padding: .5ex;\n",
              "  margin: .5ex;\n",
              "  width: min-content;\n",
              "  min-width: 20ex;\n",
              "  max-width: 50ex;\n",
              "  color: var(--sklearn-color-text);\n",
              "  box-shadow: 2pt 2pt 4pt #999;\n",
              "  /* unfitted */\n",
              "  background: var(--sklearn-color-unfitted-level-0);\n",
              "  border: .5pt solid var(--sklearn-color-unfitted-level-3);\n",
              "}\n",
              "\n",
              ".sk-estimator-doc-link.fitted span {\n",
              "  /* fitted */\n",
              "  background: var(--sklearn-color-fitted-level-0);\n",
              "  border: var(--sklearn-color-fitted-level-3);\n",
              "}\n",
              "\n",
              ".sk-estimator-doc-link:hover span {\n",
              "  display: block;\n",
              "}\n",
              "\n",
              "/* \"?\"-specific style due to the `<a>` HTML tag */\n",
              "\n",
              "#sk-container-id-1 a.estimator_doc_link {\n",
              "  float: right;\n",
              "  font-size: 1rem;\n",
              "  line-height: 1em;\n",
              "  font-family: monospace;\n",
              "  background-color: var(--sklearn-color-background);\n",
              "  border-radius: 1rem;\n",
              "  height: 1rem;\n",
              "  width: 1rem;\n",
              "  text-decoration: none;\n",
              "  /* unfitted */\n",
              "  color: var(--sklearn-color-unfitted-level-1);\n",
              "  border: var(--sklearn-color-unfitted-level-1) 1pt solid;\n",
              "}\n",
              "\n",
              "#sk-container-id-1 a.estimator_doc_link.fitted {\n",
              "  /* fitted */\n",
              "  border: var(--sklearn-color-fitted-level-1) 1pt solid;\n",
              "  color: var(--sklearn-color-fitted-level-1);\n",
              "}\n",
              "\n",
              "/* On hover */\n",
              "#sk-container-id-1 a.estimator_doc_link:hover {\n",
              "  /* unfitted */\n",
              "  background-color: var(--sklearn-color-unfitted-level-3);\n",
              "  color: var(--sklearn-color-background);\n",
              "  text-decoration: none;\n",
              "}\n",
              "\n",
              "#sk-container-id-1 a.estimator_doc_link.fitted:hover {\n",
              "  /* fitted */\n",
              "  background-color: var(--sklearn-color-fitted-level-3);\n",
              "}\n",
              "</style><div id=\"sk-container-id-1\" class=\"sk-top-container\"><div class=\"sk-text-repr-fallback\"><pre>MultinomialNB()</pre><b>In a Jupyter environment, please rerun this cell to show the HTML representation or trust the notebook. <br />On GitHub, the HTML representation is unable to render, please try loading this page with nbviewer.org.</b></div><div class=\"sk-container\" hidden><div class=\"sk-item\"><div class=\"sk-estimator fitted sk-toggleable\"><input class=\"sk-toggleable__control sk-hidden--visually\" id=\"sk-estimator-id-1\" type=\"checkbox\" checked><label for=\"sk-estimator-id-1\" class=\"sk-toggleable__label fitted sk-toggleable__label-arrow\"><div><div>MultinomialNB</div></div><div><a class=\"sk-estimator-doc-link fitted\" rel=\"noreferrer\" target=\"_blank\" href=\"https://scikit-learn.org/1.6/modules/generated/sklearn.naive_bayes.MultinomialNB.html\">?<span>Documentation for MultinomialNB</span></a><span class=\"sk-estimator-doc-link fitted\">i<span>Fitted</span></span></div></label><div class=\"sk-toggleable__content fitted\"><pre>MultinomialNB()</pre></div> </div></div></div></div>"
            ]
          },
          "metadata": {},
          "execution_count": 20
        }
      ]
    },
    {
      "cell_type": "code",
      "source": [
        "# Predict with train and test data.\n",
        "y_pred_train = naive_bayes_model.predict(X_train_counts)\n",
        "\n",
        "y_pred_test = naive_bayes_model.predict(X_test_counts)\n",
        "\n",
        "print(\"\\n Train Example:\", y_pred_train[:10])\n",
        "print(\"Test Example:\", y_pred_test[:10])"
      ],
      "metadata": {
        "id": "QrJ9-ql3HjL6",
        "colab": {
          "base_uri": "https://localhost:8080/"
        },
        "outputId": "64a7d1c4-3ce6-44e7-bee5-7dad7a022d86"
      },
      "execution_count": 21,
      "outputs": [
        {
          "output_type": "stream",
          "name": "stdout",
          "text": [
            "\n",
            " Train Example: [ 7  4  4  1 14 16 13  3  2  4]\n",
            "Test Example: [ 7  1  0 17  0 13 15  2  5  1]\n"
          ]
        }
      ]
    },
    {
      "cell_type": "code",
      "source": [
        "from sklearn.metrics import accuracy_score\n",
        "train_acc = accuracy_score(newsdata.target, y_pred_train)\n",
        "test_acc = accuracy_score(newsdata_test.target, y_pred_test)\n",
        "\n",
        "print(f\"Train Accuracy is {train_acc:.4f}\")\n",
        "print(f\"Test Accuracy is {test_acc:.4f}\")\n"
      ],
      "metadata": {
        "id": "M9Mx1cz9HtMq",
        "colab": {
          "base_uri": "https://localhost:8080/"
        },
        "outputId": "99700487-6018-4142-ee49-7dd90dc3443d"
      },
      "execution_count": 23,
      "outputs": [
        {
          "output_type": "stream",
          "name": "stdout",
          "text": [
            "Train Accuracy is 0.9517\n",
            "Test Accuracy is 0.8042\n"
          ]
        }
      ]
    },
    {
      "cell_type": "code",
      "source": [
        "from sklearn.pipeline import Pipeline\n",
        "from sklearn.feature_extraction.text import CountVectorizer\n",
        "from sklearn.naive_bayes import MultinomialNB\n",
        "from sklearn.model_selection import GridSearchCV\n",
        "import numpy as np\n",
        "\n",
        "print(\"--- Starting Naive Bayes Hyperparameter Tuning (using Pipeline) ---\")\n",
        "\n",
        "# 1. Define Pipeline\n",
        "# Step names can be chosen freely, but are used later in parameter grid definition.\n",
        "pipeline = Pipeline([\n",
        "    ('countvectorizer', CountVectorizer(tokenizer=simple_word_tokenizer)), # Specify tokenizer\n",
        "    ('multinomialnb', MultinomialNB()) # Naive Bayes Model\n",
        "])\n",
        "\n",
        "# 2. Define Parameter Grid\n",
        "# Format: 'stepname__parametername'\n",
        "param_grid = {\n",
        "    'countvectorizer__max_features': [10000, 20000, 30000], # max_features candidate range\n",
        "    'multinomialnb__alpha': [0.1, 0.5, 1.0, 5.0, 10.0]      # alpha candidate range\n",
        "}\n",
        "\n",
        "print(f\"Parameter Grid defined: {param_grid}\")\n",
        "\n",
        "# 3. Apply GridSearchCV\n",
        "# estimator: The pipeline to tune\n",
        "# param_grid: The hyperparameter grid to search\n",
        "# cv: Number of cross-validation folds (e.g., 5-Fold)\n",
        "# scoring: Evaluation metric (e.g., 'accuracy', 'f1_weighted' are common for text classification)\n",
        "# n_jobs: Number of CPU cores to use (-1 uses all available cores)\n",
        "# return_train_score=True: Record score on training folds as well (useful for analysis)\n",
        "grid_search_nb = GridSearchCV(estimator=pipeline,\n",
        "                              param_grid=param_grid,\n",
        "                              cv=5, # 5-Fold Cross-Validation\n",
        "                              scoring='accuracy',\n",
        "                              n_jobs=-1, # Use all CPU cores\n",
        "                              return_train_score=True)\n",
        "\n",
        "print(\"GridSearchCV object created. Starting tuning execution...\")\n",
        "\n",
        "# 4. Execute Tuning (using preprocessed training text and original targets)\n",
        "# The Pipeline's fit method internally handles:\n",
        "# train_text -> CountVectorizer (fit_transform) -> MultinomialNB (fit) process\n",
        "# GridSearchCV repeats this for each param_grid combination, cv times.\n",
        "grid_search_nb.fit(train_text, newsdata.target) # <-- Note: Use preprocessed text (train_text) and original targets!\n",
        "\n",
        "print(\"\\n--- Naive Bayes Hyperparameter Tuning Complete ---\")\n",
        "\n",
        "# Check best results\n",
        "print(\"\\nBest parameters found:\", grid_search_nb.best_params_)\n",
        "print(\"Best cross-validation accuracy:\", grid_search_nb.best_score_)\n",
        "\n",
        "# Final pipeline model trained with the best hyperparameters\n",
        "best_nb_pipeline = grid_search_nb.best_estimator_\n",
        "print(\"\\nBest tuned pipeline ready.\")\n",
        "\n",
        "# Now, you can use best_nb_pipeline to perform final evaluation on the test data (test_text, newsdata_test.target).\n",
        "final_test_accuracy = best_nb_pipeline.score(test_text, newsdata_test.target)\n",
        "print(f\"Best pipeline final test accuracy: {final_test_accuracy:.4f}\")"
      ],
      "metadata": {
        "colab": {
          "base_uri": "https://localhost:8080/"
        },
        "id": "UVOAoGEa-UtX",
        "outputId": "ed25c0d8-d62b-4c85-9286-dc31a60bbdd0"
      },
      "execution_count": 26,
      "outputs": [
        {
          "output_type": "stream",
          "name": "stdout",
          "text": [
            "--- Starting Naive Bayes Hyperparameter Tuning (using Pipeline) ---\n",
            "Parameter Grid defined: {'countvectorizer__max_features': [10000, 20000, 30000], 'multinomialnb__alpha': [0.1, 0.5, 1.0, 5.0, 10.0]}\n",
            "GridSearchCV object created. Starting tuning execution...\n"
          ]
        },
        {
          "output_type": "stream",
          "name": "stderr",
          "text": [
            "/usr/local/lib/python3.11/dist-packages/sklearn/feature_extraction/text.py:517: UserWarning: The parameter 'token_pattern' will not be used since 'tokenizer' is not None'\n",
            "  warnings.warn(\n"
          ]
        },
        {
          "output_type": "stream",
          "name": "stdout",
          "text": [
            "\n",
            "--- Naive Bayes Hyperparameter Tuning Complete ---\n",
            "\n",
            "Best parameters found: {'countvectorizer__max_features': 30000, 'multinomialnb__alpha': 0.1}\n",
            "Best cross-validation accuracy: 0.8919924687032736\n",
            "\n",
            "Best tuned pipeline ready.\n",
            "Best pipeline final test accuracy: 0.8204\n"
          ]
        }
      ]
    },
    {
      "cell_type": "markdown",
      "source": [
        "Your own analysis of the results (3 points) :<br>\n",
        "After converting the Twenty Newsgroups data's text into word-frequency-based numerical feature vectors so that the model could recognize it, I then trained a Naive Bayes model based on the most commonly used hyperparameter values and evaluated its generalization ability by comparing the train accuracy and test accuracy. While achieving an accuracy of 0.9157 on the training data, the model showed a disappointing generalization performance with an accuracy of 0.8042 on the test data. Subsequently, being curious about the optimal max_features and alpha hyperparameter values, I additionally performed a Grid Search and found that the best pipeline achieved a final test accuracy of 0.8204 with the parameters 'countvectorizer__max_features': 30000 and 'multinomialnb__alpha': 0.1."
      ],
      "metadata": {
        "id": "DJmfP8jl1Evq"
      }
    }
  ]
}