{
  "nbformat": 4,
  "nbformat_minor": 0,
  "metadata": {
    "colab": {
      "provenance": [],
      "include_colab_link": true
    },
    "kernelspec": {
      "name": "python3",
      "display_name": "Python 3"
    },
    "language_info": {
      "name": "python"
    }
  },
  "cells": [
    {
      "cell_type": "markdown",
      "metadata": {
        "id": "view-in-github",
        "colab_type": "text"
      },
      "source": [
        "<a href=\"https://colab.research.google.com/github/bu11ymaguire/Machin-Learning1/blob/main/Week11_Assignment_2023036299.ipynb\" target=\"_parent\"><img src=\"https://colab.research.google.com/assets/colab-badge.svg\" alt=\"Open In Colab\"/></a>"
      ]
    },
    {
      "cell_type": "markdown",
      "source": [
        "# **Machine Learning Programming**\n",
        "\n",
        "# Week11_Ensemble\n",
        "\n",
        "\n",
        "### - **Please note that the code must be submitted in a state where it runs correctly when executed by the TA.**"
      ],
      "metadata": {
        "id": "VHgCoRkoYrk_"
      }
    },
    {
      "cell_type": "markdown",
      "source": [
        "\n",
        "\n",
        "---\n",
        "\n"
      ],
      "metadata": {
        "id": "-vWrmW6HEvgs"
      }
    },
    {
      "cell_type": "markdown",
      "source": [
        "## **Assignment** Breast Cancer Data (10 points)\n",
        "\n",
        "In this assignment, you will apply the ensemble learning techniques we studied today (Random Forest, AdaBoost, and Gradient Boost) to the **breast cancer dataset** from scikit-learn. Your goal is to build a classifier to predict whether a tumor is cancerous or not.\n",
        "\n",
        "- Choose one of the models used in class\n",
        "- You may select and use a subset of features\n",
        "- Split the data into train and test sets, and calculate the accuracy on the test set\n",
        "- Achieve over 97% accuracy on the test set"
      ],
      "metadata": {
        "id": "hdBCTJ4V5Twi"
      }
    },
    {
      "cell_type": "markdown",
      "source": [
        "### **Dataset Information**\n",
        "The Breast Cancer Wisconsin (Diagnostic) dataset contains features computed from digitized images of breast mass. The dataset includes:\n",
        "\n",
        "- 569 instances\n",
        "- 30 numeric features\n",
        "- Binary classification: cancer (malignant=0) or not cancer (benign=1)\n"
      ],
      "metadata": {
        "id": "f5dSDkLFcjXO"
      }
    },
    {
      "cell_type": "markdown",
      "source": [
        "### 1 Data Load and Preprocessing (2pts)"
      ],
      "metadata": {
        "id": "z19ql_D-3-sZ"
      }
    },
    {
      "cell_type": "code",
      "source": [
        "# Data Load and Preprocessing\n",
        "\n",
        "from sklearn import datasets\n",
        "import pandas as pd\n",
        "\n",
        "cancer = datasets.load_breast_cancer()\n",
        "cancer_df = pd.DataFrame(data=cancer.data, columns=cancer.feature_names)\n",
        "cancer_df['target'] = cancer.target\n",
        "\n",
        "cancer_df.head(5)"
      ],
      "metadata": {
        "id": "nD4r6NKvFJDY",
        "colab": {
          "base_uri": "https://localhost:8080/",
          "height": 290
        },
        "outputId": "8bab7059-ecc6-4d8b-b1cf-f71aa000b9e2"
      },
      "execution_count": 1,
      "outputs": [
        {
          "output_type": "execute_result",
          "data": {
            "text/plain": [
              "   mean radius  mean texture  mean perimeter  mean area  mean smoothness  \\\n",
              "0        17.99         10.38          122.80     1001.0          0.11840   \n",
              "1        20.57         17.77          132.90     1326.0          0.08474   \n",
              "2        19.69         21.25          130.00     1203.0          0.10960   \n",
              "3        11.42         20.38           77.58      386.1          0.14250   \n",
              "4        20.29         14.34          135.10     1297.0          0.10030   \n",
              "\n",
              "   mean compactness  mean concavity  mean concave points  mean symmetry  \\\n",
              "0           0.27760          0.3001              0.14710         0.2419   \n",
              "1           0.07864          0.0869              0.07017         0.1812   \n",
              "2           0.15990          0.1974              0.12790         0.2069   \n",
              "3           0.28390          0.2414              0.10520         0.2597   \n",
              "4           0.13280          0.1980              0.10430         0.1809   \n",
              "\n",
              "   mean fractal dimension  ...  worst texture  worst perimeter  worst area  \\\n",
              "0                 0.07871  ...          17.33           184.60      2019.0   \n",
              "1                 0.05667  ...          23.41           158.80      1956.0   \n",
              "2                 0.05999  ...          25.53           152.50      1709.0   \n",
              "3                 0.09744  ...          26.50            98.87       567.7   \n",
              "4                 0.05883  ...          16.67           152.20      1575.0   \n",
              "\n",
              "   worst smoothness  worst compactness  worst concavity  worst concave points  \\\n",
              "0            0.1622             0.6656           0.7119                0.2654   \n",
              "1            0.1238             0.1866           0.2416                0.1860   \n",
              "2            0.1444             0.4245           0.4504                0.2430   \n",
              "3            0.2098             0.8663           0.6869                0.2575   \n",
              "4            0.1374             0.2050           0.4000                0.1625   \n",
              "\n",
              "   worst symmetry  worst fractal dimension  target  \n",
              "0          0.4601                  0.11890       0  \n",
              "1          0.2750                  0.08902       0  \n",
              "2          0.3613                  0.08758       0  \n",
              "3          0.6638                  0.17300       0  \n",
              "4          0.2364                  0.07678       0  \n",
              "\n",
              "[5 rows x 31 columns]"
            ],
            "text/html": [
              "\n",
              "  <div id=\"df-902d048d-09b7-4296-aa01-b6f9394f5fb7\" class=\"colab-df-container\">\n",
              "    <div>\n",
              "<style scoped>\n",
              "    .dataframe tbody tr th:only-of-type {\n",
              "        vertical-align: middle;\n",
              "    }\n",
              "\n",
              "    .dataframe tbody tr th {\n",
              "        vertical-align: top;\n",
              "    }\n",
              "\n",
              "    .dataframe thead th {\n",
              "        text-align: right;\n",
              "    }\n",
              "</style>\n",
              "<table border=\"1\" class=\"dataframe\">\n",
              "  <thead>\n",
              "    <tr style=\"text-align: right;\">\n",
              "      <th></th>\n",
              "      <th>mean radius</th>\n",
              "      <th>mean texture</th>\n",
              "      <th>mean perimeter</th>\n",
              "      <th>mean area</th>\n",
              "      <th>mean smoothness</th>\n",
              "      <th>mean compactness</th>\n",
              "      <th>mean concavity</th>\n",
              "      <th>mean concave points</th>\n",
              "      <th>mean symmetry</th>\n",
              "      <th>mean fractal dimension</th>\n",
              "      <th>...</th>\n",
              "      <th>worst texture</th>\n",
              "      <th>worst perimeter</th>\n",
              "      <th>worst area</th>\n",
              "      <th>worst smoothness</th>\n",
              "      <th>worst compactness</th>\n",
              "      <th>worst concavity</th>\n",
              "      <th>worst concave points</th>\n",
              "      <th>worst symmetry</th>\n",
              "      <th>worst fractal dimension</th>\n",
              "      <th>target</th>\n",
              "    </tr>\n",
              "  </thead>\n",
              "  <tbody>\n",
              "    <tr>\n",
              "      <th>0</th>\n",
              "      <td>17.99</td>\n",
              "      <td>10.38</td>\n",
              "      <td>122.80</td>\n",
              "      <td>1001.0</td>\n",
              "      <td>0.11840</td>\n",
              "      <td>0.27760</td>\n",
              "      <td>0.3001</td>\n",
              "      <td>0.14710</td>\n",
              "      <td>0.2419</td>\n",
              "      <td>0.07871</td>\n",
              "      <td>...</td>\n",
              "      <td>17.33</td>\n",
              "      <td>184.60</td>\n",
              "      <td>2019.0</td>\n",
              "      <td>0.1622</td>\n",
              "      <td>0.6656</td>\n",
              "      <td>0.7119</td>\n",
              "      <td>0.2654</td>\n",
              "      <td>0.4601</td>\n",
              "      <td>0.11890</td>\n",
              "      <td>0</td>\n",
              "    </tr>\n",
              "    <tr>\n",
              "      <th>1</th>\n",
              "      <td>20.57</td>\n",
              "      <td>17.77</td>\n",
              "      <td>132.90</td>\n",
              "      <td>1326.0</td>\n",
              "      <td>0.08474</td>\n",
              "      <td>0.07864</td>\n",
              "      <td>0.0869</td>\n",
              "      <td>0.07017</td>\n",
              "      <td>0.1812</td>\n",
              "      <td>0.05667</td>\n",
              "      <td>...</td>\n",
              "      <td>23.41</td>\n",
              "      <td>158.80</td>\n",
              "      <td>1956.0</td>\n",
              "      <td>0.1238</td>\n",
              "      <td>0.1866</td>\n",
              "      <td>0.2416</td>\n",
              "      <td>0.1860</td>\n",
              "      <td>0.2750</td>\n",
              "      <td>0.08902</td>\n",
              "      <td>0</td>\n",
              "    </tr>\n",
              "    <tr>\n",
              "      <th>2</th>\n",
              "      <td>19.69</td>\n",
              "      <td>21.25</td>\n",
              "      <td>130.00</td>\n",
              "      <td>1203.0</td>\n",
              "      <td>0.10960</td>\n",
              "      <td>0.15990</td>\n",
              "      <td>0.1974</td>\n",
              "      <td>0.12790</td>\n",
              "      <td>0.2069</td>\n",
              "      <td>0.05999</td>\n",
              "      <td>...</td>\n",
              "      <td>25.53</td>\n",
              "      <td>152.50</td>\n",
              "      <td>1709.0</td>\n",
              "      <td>0.1444</td>\n",
              "      <td>0.4245</td>\n",
              "      <td>0.4504</td>\n",
              "      <td>0.2430</td>\n",
              "      <td>0.3613</td>\n",
              "      <td>0.08758</td>\n",
              "      <td>0</td>\n",
              "    </tr>\n",
              "    <tr>\n",
              "      <th>3</th>\n",
              "      <td>11.42</td>\n",
              "      <td>20.38</td>\n",
              "      <td>77.58</td>\n",
              "      <td>386.1</td>\n",
              "      <td>0.14250</td>\n",
              "      <td>0.28390</td>\n",
              "      <td>0.2414</td>\n",
              "      <td>0.10520</td>\n",
              "      <td>0.2597</td>\n",
              "      <td>0.09744</td>\n",
              "      <td>...</td>\n",
              "      <td>26.50</td>\n",
              "      <td>98.87</td>\n",
              "      <td>567.7</td>\n",
              "      <td>0.2098</td>\n",
              "      <td>0.8663</td>\n",
              "      <td>0.6869</td>\n",
              "      <td>0.2575</td>\n",
              "      <td>0.6638</td>\n",
              "      <td>0.17300</td>\n",
              "      <td>0</td>\n",
              "    </tr>\n",
              "    <tr>\n",
              "      <th>4</th>\n",
              "      <td>20.29</td>\n",
              "      <td>14.34</td>\n",
              "      <td>135.10</td>\n",
              "      <td>1297.0</td>\n",
              "      <td>0.10030</td>\n",
              "      <td>0.13280</td>\n",
              "      <td>0.1980</td>\n",
              "      <td>0.10430</td>\n",
              "      <td>0.1809</td>\n",
              "      <td>0.05883</td>\n",
              "      <td>...</td>\n",
              "      <td>16.67</td>\n",
              "      <td>152.20</td>\n",
              "      <td>1575.0</td>\n",
              "      <td>0.1374</td>\n",
              "      <td>0.2050</td>\n",
              "      <td>0.4000</td>\n",
              "      <td>0.1625</td>\n",
              "      <td>0.2364</td>\n",
              "      <td>0.07678</td>\n",
              "      <td>0</td>\n",
              "    </tr>\n",
              "  </tbody>\n",
              "</table>\n",
              "<p>5 rows × 31 columns</p>\n",
              "</div>\n",
              "    <div class=\"colab-df-buttons\">\n",
              "\n",
              "  <div class=\"colab-df-container\">\n",
              "    <button class=\"colab-df-convert\" onclick=\"convertToInteractive('df-902d048d-09b7-4296-aa01-b6f9394f5fb7')\"\n",
              "            title=\"Convert this dataframe to an interactive table.\"\n",
              "            style=\"display:none;\">\n",
              "\n",
              "  <svg xmlns=\"http://www.w3.org/2000/svg\" height=\"24px\" viewBox=\"0 -960 960 960\">\n",
              "    <path d=\"M120-120v-720h720v720H120Zm60-500h600v-160H180v160Zm220 220h160v-160H400v160Zm0 220h160v-160H400v160ZM180-400h160v-160H180v160Zm440 0h160v-160H620v160ZM180-180h160v-160H180v160Zm440 0h160v-160H620v160Z\"/>\n",
              "  </svg>\n",
              "    </button>\n",
              "\n",
              "  <style>\n",
              "    .colab-df-container {\n",
              "      display:flex;\n",
              "      gap: 12px;\n",
              "    }\n",
              "\n",
              "    .colab-df-convert {\n",
              "      background-color: #E8F0FE;\n",
              "      border: none;\n",
              "      border-radius: 50%;\n",
              "      cursor: pointer;\n",
              "      display: none;\n",
              "      fill: #1967D2;\n",
              "      height: 32px;\n",
              "      padding: 0 0 0 0;\n",
              "      width: 32px;\n",
              "    }\n",
              "\n",
              "    .colab-df-convert:hover {\n",
              "      background-color: #E2EBFA;\n",
              "      box-shadow: 0px 1px 2px rgba(60, 64, 67, 0.3), 0px 1px 3px 1px rgba(60, 64, 67, 0.15);\n",
              "      fill: #174EA6;\n",
              "    }\n",
              "\n",
              "    .colab-df-buttons div {\n",
              "      margin-bottom: 4px;\n",
              "    }\n",
              "\n",
              "    [theme=dark] .colab-df-convert {\n",
              "      background-color: #3B4455;\n",
              "      fill: #D2E3FC;\n",
              "    }\n",
              "\n",
              "    [theme=dark] .colab-df-convert:hover {\n",
              "      background-color: #434B5C;\n",
              "      box-shadow: 0px 1px 3px 1px rgba(0, 0, 0, 0.15);\n",
              "      filter: drop-shadow(0px 1px 2px rgba(0, 0, 0, 0.3));\n",
              "      fill: #FFFFFF;\n",
              "    }\n",
              "  </style>\n",
              "\n",
              "    <script>\n",
              "      const buttonEl =\n",
              "        document.querySelector('#df-902d048d-09b7-4296-aa01-b6f9394f5fb7 button.colab-df-convert');\n",
              "      buttonEl.style.display =\n",
              "        google.colab.kernel.accessAllowed ? 'block' : 'none';\n",
              "\n",
              "      async function convertToInteractive(key) {\n",
              "        const element = document.querySelector('#df-902d048d-09b7-4296-aa01-b6f9394f5fb7');\n",
              "        const dataTable =\n",
              "          await google.colab.kernel.invokeFunction('convertToInteractive',\n",
              "                                                    [key], {});\n",
              "        if (!dataTable) return;\n",
              "\n",
              "        const docLinkHtml = 'Like what you see? Visit the ' +\n",
              "          '<a target=\"_blank\" href=https://colab.research.google.com/notebooks/data_table.ipynb>data table notebook</a>'\n",
              "          + ' to learn more about interactive tables.';\n",
              "        element.innerHTML = '';\n",
              "        dataTable['output_type'] = 'display_data';\n",
              "        await google.colab.output.renderOutput(dataTable, element);\n",
              "        const docLink = document.createElement('div');\n",
              "        docLink.innerHTML = docLinkHtml;\n",
              "        element.appendChild(docLink);\n",
              "      }\n",
              "    </script>\n",
              "  </div>\n",
              "\n",
              "\n",
              "    <div id=\"df-c5d07e4a-3615-46fe-b73e-35d42b043eb5\">\n",
              "      <button class=\"colab-df-quickchart\" onclick=\"quickchart('df-c5d07e4a-3615-46fe-b73e-35d42b043eb5')\"\n",
              "                title=\"Suggest charts\"\n",
              "                style=\"display:none;\">\n",
              "\n",
              "<svg xmlns=\"http://www.w3.org/2000/svg\" height=\"24px\"viewBox=\"0 0 24 24\"\n",
              "     width=\"24px\">\n",
              "    <g>\n",
              "        <path d=\"M19 3H5c-1.1 0-2 .9-2 2v14c0 1.1.9 2 2 2h14c1.1 0 2-.9 2-2V5c0-1.1-.9-2-2-2zM9 17H7v-7h2v7zm4 0h-2V7h2v10zm4 0h-2v-4h2v4z\"/>\n",
              "    </g>\n",
              "</svg>\n",
              "      </button>\n",
              "\n",
              "<style>\n",
              "  .colab-df-quickchart {\n",
              "      --bg-color: #E8F0FE;\n",
              "      --fill-color: #1967D2;\n",
              "      --hover-bg-color: #E2EBFA;\n",
              "      --hover-fill-color: #174EA6;\n",
              "      --disabled-fill-color: #AAA;\n",
              "      --disabled-bg-color: #DDD;\n",
              "  }\n",
              "\n",
              "  [theme=dark] .colab-df-quickchart {\n",
              "      --bg-color: #3B4455;\n",
              "      --fill-color: #D2E3FC;\n",
              "      --hover-bg-color: #434B5C;\n",
              "      --hover-fill-color: #FFFFFF;\n",
              "      --disabled-bg-color: #3B4455;\n",
              "      --disabled-fill-color: #666;\n",
              "  }\n",
              "\n",
              "  .colab-df-quickchart {\n",
              "    background-color: var(--bg-color);\n",
              "    border: none;\n",
              "    border-radius: 50%;\n",
              "    cursor: pointer;\n",
              "    display: none;\n",
              "    fill: var(--fill-color);\n",
              "    height: 32px;\n",
              "    padding: 0;\n",
              "    width: 32px;\n",
              "  }\n",
              "\n",
              "  .colab-df-quickchart:hover {\n",
              "    background-color: var(--hover-bg-color);\n",
              "    box-shadow: 0 1px 2px rgba(60, 64, 67, 0.3), 0 1px 3px 1px rgba(60, 64, 67, 0.15);\n",
              "    fill: var(--button-hover-fill-color);\n",
              "  }\n",
              "\n",
              "  .colab-df-quickchart-complete:disabled,\n",
              "  .colab-df-quickchart-complete:disabled:hover {\n",
              "    background-color: var(--disabled-bg-color);\n",
              "    fill: var(--disabled-fill-color);\n",
              "    box-shadow: none;\n",
              "  }\n",
              "\n",
              "  .colab-df-spinner {\n",
              "    border: 2px solid var(--fill-color);\n",
              "    border-color: transparent;\n",
              "    border-bottom-color: var(--fill-color);\n",
              "    animation:\n",
              "      spin 1s steps(1) infinite;\n",
              "  }\n",
              "\n",
              "  @keyframes spin {\n",
              "    0% {\n",
              "      border-color: transparent;\n",
              "      border-bottom-color: var(--fill-color);\n",
              "      border-left-color: var(--fill-color);\n",
              "    }\n",
              "    20% {\n",
              "      border-color: transparent;\n",
              "      border-left-color: var(--fill-color);\n",
              "      border-top-color: var(--fill-color);\n",
              "    }\n",
              "    30% {\n",
              "      border-color: transparent;\n",
              "      border-left-color: var(--fill-color);\n",
              "      border-top-color: var(--fill-color);\n",
              "      border-right-color: var(--fill-color);\n",
              "    }\n",
              "    40% {\n",
              "      border-color: transparent;\n",
              "      border-right-color: var(--fill-color);\n",
              "      border-top-color: var(--fill-color);\n",
              "    }\n",
              "    60% {\n",
              "      border-color: transparent;\n",
              "      border-right-color: var(--fill-color);\n",
              "    }\n",
              "    80% {\n",
              "      border-color: transparent;\n",
              "      border-right-color: var(--fill-color);\n",
              "      border-bottom-color: var(--fill-color);\n",
              "    }\n",
              "    90% {\n",
              "      border-color: transparent;\n",
              "      border-bottom-color: var(--fill-color);\n",
              "    }\n",
              "  }\n",
              "</style>\n",
              "\n",
              "      <script>\n",
              "        async function quickchart(key) {\n",
              "          const quickchartButtonEl =\n",
              "            document.querySelector('#' + key + ' button');\n",
              "          quickchartButtonEl.disabled = true;  // To prevent multiple clicks.\n",
              "          quickchartButtonEl.classList.add('colab-df-spinner');\n",
              "          try {\n",
              "            const charts = await google.colab.kernel.invokeFunction(\n",
              "                'suggestCharts', [key], {});\n",
              "          } catch (error) {\n",
              "            console.error('Error during call to suggestCharts:', error);\n",
              "          }\n",
              "          quickchartButtonEl.classList.remove('colab-df-spinner');\n",
              "          quickchartButtonEl.classList.add('colab-df-quickchart-complete');\n",
              "        }\n",
              "        (() => {\n",
              "          let quickchartButtonEl =\n",
              "            document.querySelector('#df-c5d07e4a-3615-46fe-b73e-35d42b043eb5 button');\n",
              "          quickchartButtonEl.style.display =\n",
              "            google.colab.kernel.accessAllowed ? 'block' : 'none';\n",
              "        })();\n",
              "      </script>\n",
              "    </div>\n",
              "\n",
              "    </div>\n",
              "  </div>\n"
            ],
            "application/vnd.google.colaboratory.intrinsic+json": {
              "type": "dataframe",
              "variable_name": "cancer_df"
            }
          },
          "metadata": {},
          "execution_count": 1
        }
      ]
    },
    {
      "cell_type": "code",
      "source": [
        "missing_values_count = cancer_df.isnull().sum()\n",
        "\n",
        "print(\"missing_Values_count:\")\n",
        "print(missing_values_count)"
      ],
      "metadata": {
        "colab": {
          "base_uri": "https://localhost:8080/"
        },
        "id": "SfSdhTFxfYnx",
        "outputId": "87d4a706-32d6-4666-bf43-645796832102"
      },
      "execution_count": 3,
      "outputs": [
        {
          "output_type": "stream",
          "name": "stdout",
          "text": [
            "missing_Values_count:\n",
            "mean radius                0\n",
            "mean texture               0\n",
            "mean perimeter             0\n",
            "mean area                  0\n",
            "mean smoothness            0\n",
            "mean compactness           0\n",
            "mean concavity             0\n",
            "mean concave points        0\n",
            "mean symmetry              0\n",
            "mean fractal dimension     0\n",
            "radius error               0\n",
            "texture error              0\n",
            "perimeter error            0\n",
            "area error                 0\n",
            "smoothness error           0\n",
            "compactness error          0\n",
            "concavity error            0\n",
            "concave points error       0\n",
            "symmetry error             0\n",
            "fractal dimension error    0\n",
            "worst radius               0\n",
            "worst texture              0\n",
            "worst perimeter            0\n",
            "worst area                 0\n",
            "worst smoothness           0\n",
            "worst compactness          0\n",
            "worst concavity            0\n",
            "worst concave points       0\n",
            "worst symmetry             0\n",
            "worst fractal dimension    0\n",
            "target                     0\n",
            "dtype: int64\n"
          ]
        }
      ]
    },
    {
      "cell_type": "markdown",
      "source": [
        "### 2 Train/Test Split\n",
        "- Split the datasets into train and test sets."
      ],
      "metadata": {
        "id": "mtgbJbzaMVg5"
      }
    },
    {
      "cell_type": "code",
      "source": [
        "# Split the dataset\n",
        "X = cancer_df.drop('target',axis=1)\n",
        "y = cancer_df['target']\n",
        "\n",
        "from sklearn.model_selection import train_test_split\n",
        "X_train, X_test, y_train, y_test = train_test_split(X, y, test_size=0.2, random_state=42, stratify=y)\n"
      ],
      "metadata": {
        "id": "_QOLf38jMdnl"
      },
      "execution_count": 5,
      "outputs": []
    },
    {
      "cell_type": "code",
      "source": [
        "print(\"X_train shape:\",X_train.shape)\n",
        "print(\"X_test shape:\",X_test.shape)\n",
        "print(\"y_train shape:\",y_train.shape)\n",
        "print(\"y_test shape:\",y_test.shape)"
      ],
      "metadata": {
        "colab": {
          "base_uri": "https://localhost:8080/"
        },
        "id": "9BQFaGf0h_Ip",
        "outputId": "9e1a4328-4300-46b5-f709-172edee1e066"
      },
      "execution_count": 6,
      "outputs": [
        {
          "output_type": "stream",
          "name": "stdout",
          "text": [
            "X_train shape: (455, 30)\n",
            "X_test shape: (114, 30)\n",
            "y_train shape: (455,)\n",
            "y_test shape: (114,)\n"
          ]
        }
      ]
    },
    {
      "cell_type": "markdown",
      "source": [
        "### 3 Model Training (3 points)\n",
        "- Train a classifier with the preprocessed data."
      ],
      "metadata": {
        "id": "v-h2KHg05XTS"
      }
    },
    {
      "cell_type": "code",
      "source": [
        "# Train a classifier\n",
        "from sklearn.ensemble import RandomForestClassifier\n",
        "from sklearn.metrics import accuracy_score\n",
        "\n",
        "rf_model = RandomForestClassifier(n_estimators=100, random_state=42)\n",
        "rf_model.fit(X_train, y_train)\n",
        "\n",
        "y_pred = rf_model.predict(X_test)\n",
        "\n",
        "rf_accuracy = accuracy_score(y_test, y_pred)\n",
        "print(f\"Random Forest : {rf_accuracy:.4f}\")"
      ],
      "metadata": {
        "id": "2nC9YuxvSHJ2",
        "colab": {
          "base_uri": "https://localhost:8080/"
        },
        "outputId": "fb6572b4-1550-4fd3-ac28-337dc09a8708"
      },
      "execution_count": 7,
      "outputs": [
        {
          "output_type": "stream",
          "name": "stdout",
          "text": [
            "Random Forest : 0.9561\n"
          ]
        }
      ]
    },
    {
      "cell_type": "code",
      "source": [
        "from sklearn.ensemble import AdaBoostClassifier\n",
        "ada_model = AdaBoostClassifier(n_estimators=50,learning_rate=1.0 ,random_state=42)\n",
        "ada_model.fit(X_train, y_train)\n",
        "ada_predictions = ada_model.predict(X_test)\n",
        "ada_accuracy = accuracy_score(y_test, ada_predictions)\n",
        "print(f\"AdaBoost : {ada_accuracy:.4f}\")"
      ],
      "metadata": {
        "colab": {
          "base_uri": "https://localhost:8080/"
        },
        "id": "vVWivlzEkGsR",
        "outputId": "2f0b285f-656f-4347-bbd4-46e0b1115630"
      },
      "execution_count": 8,
      "outputs": [
        {
          "output_type": "stream",
          "name": "stdout",
          "text": [
            "AdaBoost : 0.9561\n"
          ]
        }
      ]
    },
    {
      "cell_type": "code",
      "source": [
        "from sklearn.ensemble import GradientBoostingClassifier\n",
        "gb_model = GradientBoostingClassifier(n_estimators=100, learning_rate=1.0, max_depth=3, random_state=42)\n",
        "gb_model.fit(X_train, y_train)\n",
        "gb_predictions = gb_model.predict(X_test)\n",
        "gb_accuracy = accuracy_score(y_test, gb_predictions)\n",
        "print(f\"Gradient Boost : {gb_accuracy:.4f}\")"
      ],
      "metadata": {
        "colab": {
          "base_uri": "https://localhost:8080/"
        },
        "id": "KB_27tLxlGpj",
        "outputId": "71854641-3a2d-4a6d-e016-0454a848d75f"
      },
      "execution_count": 9,
      "outputs": [
        {
          "output_type": "stream",
          "name": "stdout",
          "text": [
            "Gradient Boost : 0.9561\n"
          ]
        }
      ]
    },
    {
      "cell_type": "markdown",
      "source": [
        "### 4 Update the model to achieve an accuracy of over 97% (5 points)"
      ],
      "metadata": {
        "id": "I18nf7149HUk"
      }
    },
    {
      "cell_type": "code",
      "source": [
        "param_grid = {\n",
        "    'n_estimators': [50, 100, 200],\n",
        "    'learning_rate': [0.01, 0.1, 0.5, 1.0],\n",
        "    'max_depth': [2, 3, 4]\n",
        "}\n",
        "\n",
        "gb_model_base = GradientBoostingClassifier(random_state=42)\n",
        "\n",
        "grid_search = GridSearchCV(estimator=gb_model_base,\n",
        "                           param_grid=param_grid,\n",
        "                           scoring='accuracy',\n",
        "                           cv=5,\n",
        "                           n_jobs=-1)\n",
        "\n",
        "print(\"Starting Grid Search (Hyperparameter Tuning)...\")\n",
        "grid_search.fit(X_train, y_train)\n",
        "print(\"Grid Search Complete!\")\n",
        "\n",
        "print(\"\\nBest Hyperparameters:\", grid_search.best_params_)\n",
        "print(\"Best Cross-Validation Score:\", grid_search.best_score_)\n",
        "\n",
        "print(\"Evaluating on Test Set...\")\n",
        "best_gb_model = grid_search.best_estimator_\n",
        "final_predictions = best_gb_model.predict(X_test)\n",
        "final_accuracy = accuracy_score(y_test, final_predictions)\n",
        "\n",
        "print(f\"Final Test Set Accuracy with Best Parameters: {final_accuracy:.4f}\")"
      ],
      "metadata": {
        "id": "rkOdqaMa_QMw",
        "colab": {
          "base_uri": "https://localhost:8080/"
        },
        "outputId": "4bd02e0e-c6c5-4b12-e377-473236883cc0"
      },
      "execution_count": 12,
      "outputs": [
        {
          "output_type": "stream",
          "name": "stdout",
          "text": [
            "Starting Grid Search (Hyperparameter Tuning)...\n",
            "Grid Search Complete!\n",
            "\n",
            "Best Hyperparameters: {'learning_rate': 1.0, 'max_depth': 2, 'n_estimators': 100}\n",
            "Best Cross-Validation Score: 0.9758241758241759\n",
            "Evaluating on Test Set...\n",
            "Final Test Set Accuracy with Best Parameters: 0.9649\n"
          ]
        }
      ]
    },
    {
      "cell_type": "code",
      "source": [
        "from sklearn.model_selection import GridSearchCV\n",
        "from sklearn.ensemble import GradientBoostingClassifier\n",
        "from sklearn.metrics import accuracy_score\n",
        "\n",
        "param_grid = {\n",
        "    'n_estimators': [50, 100, 200, 300, 500],\n",
        "    'learning_rate': [0.001, 0.01, 0.05, 0.1, 0.5],\n",
        "    'max_depth': [2, 3, 4, 5]\n",
        "}\n",
        "\n",
        "gb_model_base = GradientBoostingClassifier(random_state=42)\n",
        "\n",
        "grid_search = GridSearchCV(estimator=gb_model_base,\n",
        "                           param_grid=param_grid,\n",
        "                           scoring='accuracy',\n",
        "                           cv=5,\n",
        "                           n_jobs=-1)\n",
        "\n",
        "print(\"Starting Expanded Grid Search (Hyperparameter Tuning)...\")\n",
        "grid_search.fit(X_train, y_train)\n",
        "print(\"Expanded Grid Search Complete!\")\n",
        "\n",
        "print(\"\\nBest Hyperparameters found with Expanded Search:\", grid_search.best_params_)\n",
        "print(\"Best Cross-Validation Score found with Expanded Search:\", grid_search.best_score_)\n",
        "\n",
        "print(\"Evaluating on Test Set with Best Model from Expanded Search...\")\n",
        "best_gb_model_tuned = grid_search.best_estimator_\n",
        "final_predictions_tuned = best_gb_model_tuned.predict(X_test)\n",
        "final_accuracy_tuned = accuracy_score(y_test, final_predictions_tuned)\n",
        "\n",
        "print(f\"Final Test Set Accuracy with Best Tuned Parameters: {final_accuracy_tuned:.4f}\")"
      ],
      "metadata": {
        "colab": {
          "base_uri": "https://localhost:8080/"
        },
        "id": "_xyozGybnN8e",
        "outputId": "3ec0c0a1-d949-4561-bf3d-fed3c911fb2f"
      },
      "execution_count": 13,
      "outputs": [
        {
          "output_type": "stream",
          "name": "stdout",
          "text": [
            "Starting Expanded Grid Search (Hyperparameter Tuning)...\n",
            "Expanded Grid Search Complete!\n",
            "\n",
            "Best Hyperparameters found with Expanded Search: {'learning_rate': 0.1, 'max_depth': 2, 'n_estimators': 200}\n",
            "Best Cross-Validation Score found with Expanded Search: 0.9714285714285715\n",
            "Evaluating on Test Set with Best Model from Expanded Search...\n",
            "Final Test Set Accuracy with Best Tuned Parameters: 0.9474\n"
          ]
        }
      ]
    },
    {
      "cell_type": "code",
      "source": [
        "from sklearn.model_selection import GridSearchCV\n",
        "from sklearn.ensemble import GradientBoostingClassifier\n",
        "from sklearn.metrics import accuracy_score\n",
        "\n",
        "param_grid = {\n",
        "    'n_estimators': [150, 200, 250, 300],\n",
        "    'learning_rate': [0.05, 0.08, 0.1, 0.12, 0.15],\n",
        "    'max_depth': [2, 3]\n",
        "}\n",
        "\n",
        "gb_model_base = GradientBoostingClassifier(random_state=42)\n",
        "\n",
        "grid_search = GridSearchCV(estimator=gb_model_base,\n",
        "                           param_grid=param_grid,\n",
        "                           scoring='accuracy',\n",
        "                           cv=5,\n",
        "                           n_jobs=-1)\n",
        "\n",
        "print(\"Starting Refined Grid Search (Hyperparameter Tuning)...\")\n",
        "grid_search.fit(X_train, y_train)\n",
        "print(\"Refined Grid Search Complete!\")\n",
        "\n",
        "print(\"\\nBest Hyperparameters found with Refined Search:\", grid_search.best_params_)\n",
        "print(\"Best Cross-Validation Score found with Refined Search:\", grid_search.best_score_)\n",
        "\n",
        "print(\"Evaluating on Test Set with Best Model from Refined Search...\")\n",
        "best_gb_model_tuned = grid_search.best_estimator_\n",
        "final_predictions_tuned = best_gb_model_tuned.predict(X_test)\n",
        "final_accuracy_tuned = accuracy_score(y_test, final_predictions_tuned)\n",
        "\n",
        "print(f\"Final Test Set Accuracy with Best Tuned Parameters: {final_accuracy_tuned:.4f}\")"
      ],
      "metadata": {
        "colab": {
          "base_uri": "https://localhost:8080/"
        },
        "id": "yIqJLT8LpiKG",
        "outputId": "441319e2-8fc4-40ae-8291-58bd44de291f"
      },
      "execution_count": 14,
      "outputs": [
        {
          "output_type": "stream",
          "name": "stdout",
          "text": [
            "Starting Refined Grid Search (Hyperparameter Tuning)...\n",
            "Refined Grid Search Complete!\n",
            "\n",
            "Best Hyperparameters found with Refined Search: {'learning_rate': 0.1, 'max_depth': 2, 'n_estimators': 200}\n",
            "Best Cross-Validation Score found with Refined Search: 0.9714285714285715\n",
            "Evaluating on Test Set with Best Model from Refined Search...\n",
            "Final Test Set Accuracy with Best Tuned Parameters: 0.9474\n"
          ]
        }
      ]
    },
    {
      "cell_type": "code",
      "source": [
        "from sklearn.model_selection import GridSearchCV\n",
        "from sklearn.ensemble import AdaBoostClassifier\n",
        "from sklearn.metrics import accuracy_score\n",
        "\n",
        "param_grid = {\n",
        "    'n_estimators': [50, 100, 200, 300],\n",
        "    'learning_rate': [0.01, 0.1, 0.5, 1.0]\n",
        "}\n",
        "\n",
        "ada_model_base = AdaBoostClassifier(random_state=42)\n",
        "\n",
        "grid_search_ada = GridSearchCV(estimator=ada_model_base,\n",
        "                           param_grid=param_grid,\n",
        "                           scoring='accuracy',\n",
        "                           cv=5,\n",
        "                           n_jobs=-1)\n",
        "\n",
        "print(\"Starting Grid Search for AdaBoost (Hyperparameter Tuning)...\")\n",
        "grid_search_ada.fit(X_train, y_train)\n",
        "print(\"Grid Search for AdaBoost Complete!\")\n",
        "\n",
        "print(\"\\nBest Hyperparameters found for AdaBoost:\", grid_search_ada.best_params_)\n",
        "print(\"Best Cross-Validation Score for AdaBoost:\", grid_search_ada.best_score_)\n",
        "\n",
        "print(\"Evaluating on Test Set with Best AdaBoost Model...\")\n",
        "best_ada_model_tuned = grid_search_ada.best_estimator_\n",
        "final_predictions_ada_tuned = best_ada_model_tuned.predict(X_test)\n",
        "final_accuracy_ada_tuned = accuracy_score(y_test, final_predictions_ada_tuned)\n",
        "\n",
        "print(f\"Final Test Set Accuracy with Best Tuned AdaBoost Parameters: {final_accuracy_ada_tuned:.4f}\")"
      ],
      "metadata": {
        "colab": {
          "base_uri": "https://localhost:8080/"
        },
        "id": "1inU5NXWqqK-",
        "outputId": "d27247d7-5b38-410a-dc51-5df516a76a22"
      },
      "execution_count": 15,
      "outputs": [
        {
          "output_type": "stream",
          "name": "stdout",
          "text": [
            "Starting Grid Search for AdaBoost (Hyperparameter Tuning)...\n",
            "Grid Search for AdaBoost Complete!\n",
            "\n",
            "Best Hyperparameters found for AdaBoost: {'learning_rate': 0.5, 'n_estimators': 100}\n",
            "Best Cross-Validation Score for AdaBoost: 0.9780219780219781\n",
            "Evaluating on Test Set with Best AdaBoost Model...\n",
            "Final Test Set Accuracy with Best Tuned AdaBoost Parameters: 0.9561\n"
          ]
        }
      ]
    },
    {
      "cell_type": "code",
      "source": [
        "from sklearn.model_selection import GridSearchCV\n",
        "from sklearn.ensemble import AdaBoostClassifier\n",
        "from sklearn.metrics import accuracy_score\n",
        "\n",
        "param_grid = {\n",
        "    'n_estimators': [80, 100, 120, 150, 200],\n",
        "    'learning_rate': [0.3, 0.4, 0.5, 0.6, 0.7]\n",
        "}\n",
        "\n",
        "ada_model_base = AdaBoostClassifier(random_state=42)\n",
        "\n",
        "grid_search_ada = GridSearchCV(estimator=ada_model_base,\n",
        "                           param_grid=param_grid,\n",
        "                           scoring='accuracy',\n",
        "                           cv=5,\n",
        "                           n_jobs=-1)\n",
        "\n",
        "print(\"Starting Refined Grid Search for AdaBoost (Hyperparameter Tuning)...\")\n",
        "grid_search_ada.fit(X_train, y_train)\n",
        "print(\"Refined Grid Search for AdaBoost Complete!\")\n",
        "\n",
        "print(\"\\nBest Hyperparameters found for AdaBoost with Refined Search:\", grid_search_ada.best_params_)\n",
        "print(\"Best Cross-Validation Score for AdaBoost with Refined Search:\", grid_search_ada.best_score_)\n",
        "\n",
        "print(\"Evaluating on Test Set with Best AdaBoost Model from Refined Search...\")\n",
        "best_ada_model_tuned = grid_search_ada.best_estimator_\n",
        "final_predictions_ada_tuned = best_ada_model_tuned.predict(X_test)\n",
        "final_accuracy_ada_tuned = accuracy_score(y_test, final_predictions_ada_tuned)\n",
        "\n",
        "print(f\"Final Test Set Accuracy with Best Tuned AdaBoost Parameters: {final_accuracy_ada_tuned:.4f}\")"
      ],
      "metadata": {
        "colab": {
          "base_uri": "https://localhost:8080/"
        },
        "id": "Oa76n5cQr5BJ",
        "outputId": "1e2f66d5-8e94-41d5-c567-e883ceb81697"
      },
      "execution_count": 16,
      "outputs": [
        {
          "output_type": "stream",
          "name": "stdout",
          "text": [
            "Starting Refined Grid Search for AdaBoost (Hyperparameter Tuning)...\n",
            "Refined Grid Search for AdaBoost Complete!\n",
            "\n",
            "Best Hyperparameters found for AdaBoost with Refined Search: {'learning_rate': 0.6, 'n_estimators': 100}\n",
            "Best Cross-Validation Score for AdaBoost with Refined Search: 0.9802197802197803\n",
            "Evaluating on Test Set with Best AdaBoost Model from Refined Search...\n",
            "Final Test Set Accuracy with Best Tuned AdaBoost Parameters: 0.9561\n"
          ]
        }
      ]
    },
    {
      "cell_type": "code",
      "source": [
        "from sklearn.model_selection import GridSearchCV\n",
        "from sklearn.ensemble import RandomForestClassifier\n",
        "from sklearn.metrics import accuracy_score\n",
        "\n",
        "param_grid = {\n",
        "    'n_estimators': [50, 100, 200, 300],\n",
        "    'max_depth': [None, 10, 20],\n",
        "    'min_samples_split': [2, 5, 10],\n",
        "    'min_samples_leaf': [1, 2, 4]\n",
        "}\n",
        "\n",
        "rf_model_base = RandomForestClassifier(random_state=42)\n",
        "\n",
        "grid_search_rf = GridSearchCV(estimator=rf_model_base,\n",
        "                           param_grid=param_grid,\n",
        "                           scoring='accuracy',\n",
        "                           cv=5,\n",
        "                           n_jobs=-1)\n",
        "\n",
        "print(\"Starting Grid Search for Random Forest (Hyperparameter Tuning)...\")\n",
        "grid_search_rf.fit(X_train, y_train)\n",
        "print(\"Grid Search for Random Forest Complete!\")\n",
        "\n",
        "print(\"\\nBest Hyperparameters found for Random Forest:\", grid_search_rf.best_params_)\n",
        "print(\"Best Cross-Validation Score for Random Forest:\", grid_search_rf.best_score_)\n",
        "\n",
        "print(\"Evaluating on Test Set with Best Random Forest Model...\")\n",
        "best_rf_model_tuned = grid_search_rf.best_estimator_\n",
        "final_predictions_rf_tuned = best_rf_model_tuned.predict(X_test)\n",
        "final_accuracy_rf_tuned = accuracy_score(y_test, final_predictions_rf_tuned)\n",
        "\n",
        "print(f\"Final Test Set Accuracy with Best Tuned Random Forest Parameters: {final_accuracy_rf_tuned:.4f}\")"
      ],
      "metadata": {
        "colab": {
          "base_uri": "https://localhost:8080/"
        },
        "id": "lfLC4lq1sx5J",
        "outputId": "49fc97db-6fa4-45ba-c95b-69b1545b4a4b"
      },
      "execution_count": 17,
      "outputs": [
        {
          "output_type": "stream",
          "name": "stdout",
          "text": [
            "Starting Grid Search for Random Forest (Hyperparameter Tuning)...\n",
            "Grid Search for Random Forest Complete!\n",
            "\n",
            "Best Hyperparameters found for Random Forest: {'max_depth': None, 'min_samples_leaf': 1, 'min_samples_split': 2, 'n_estimators': 200}\n",
            "Best Cross-Validation Score for Random Forest: 0.9604395604395606\n",
            "Evaluating on Test Set with Best Random Forest Model...\n",
            "Final Test Set Accuracy with Best Tuned Random Forest Parameters: 0.9561\n"
          ]
        }
      ]
    },
    {
      "cell_type": "code",
      "source": [
        "feature_importances = best_rf_model_tuned.feature_importances_\n",
        "\n",
        "feature_names = X.columns\n",
        "\n",
        "importance_series = pd.Series(feature_importances, index=feature_names)\n",
        "\n",
        "sorted_importance_series = importance_series.sort_values(ascending=False)\n",
        "\n",
        "print(\"Feature Importances (Sorted):\")\n",
        "print(sorted_importance_series)"
      ],
      "metadata": {
        "colab": {
          "base_uri": "https://localhost:8080/"
        },
        "id": "T2guEvjQtzdT",
        "outputId": "46437525-b405-4ca3-f6c5-088737754532"
      },
      "execution_count": 18,
      "outputs": [
        {
          "output_type": "stream",
          "name": "stdout",
          "text": [
            "Feature Importances (Sorted):\n",
            "worst perimeter            0.133100\n",
            "worst area                 0.128052\n",
            "worst concave points       0.108107\n",
            "mean concave points        0.094414\n",
            "worst radius               0.090639\n",
            "mean radius                0.058662\n",
            "mean perimeter             0.055242\n",
            "mean area                  0.049938\n",
            "mean concavity             0.046207\n",
            "worst concavity            0.035357\n",
            "area error                 0.034368\n",
            "mean compactness           0.018094\n",
            "worst texture              0.017869\n",
            "worst compactness          0.014481\n",
            "mean texture               0.014317\n",
            "worst smoothness           0.014026\n",
            "radius error               0.013454\n",
            "worst symmetry             0.009570\n",
            "perimeter error            0.008138\n",
            "concavity error            0.007136\n",
            "worst fractal dimension    0.006387\n",
            "mean smoothness            0.006168\n",
            "texture error              0.005441\n",
            "mean symmetry              0.005004\n",
            "compactness error          0.004630\n",
            "symmetry error             0.004611\n",
            "mean fractal dimension     0.004465\n",
            "fractal dimension error    0.004366\n",
            "smoothness error           0.004105\n",
            "concave points error       0.003651\n",
            "dtype: float64\n"
          ]
        }
      ]
    },
    {
      "cell_type": "code",
      "source": [
        "import pandas as pd\n",
        "import numpy as np\n",
        "from sklearn.ensemble import RandomForestClassifier\n",
        "from sklearn.metrics import accuracy_score\n",
        "\n",
        "feature_importances = best_rf_model_tuned.feature_importances_\n",
        "feature_names = X_train.columns\n",
        "\n",
        "importance_series = pd.Series(feature_importances, index=feature_names)\n",
        "sorted_importance_series = importance_series.sort_values(ascending=False)\n",
        "\n",
        "importance_threshold = 0.005\n",
        "\n",
        "selected_features = sorted_importance_series[sorted_importance_series >= importance_threshold].index.tolist()\n",
        "\n",
        "print(f\"Original number of features: {len(feature_names)}\")\n",
        "print(f\"Number of selected features (importance >= {importance_threshold}): {len(selected_features)}\")\n",
        "print(f\"Selected features: {selected_features}\")\n",
        "\n",
        "X_train_selected = X_train[selected_features]\n",
        "X_test_selected = X_test[selected_features]\n",
        "\n",
        "best_params_rf = best_rf_model_tuned.get_params()\n",
        "\n",
        "selected_rf_model = RandomForestClassifier(**best_params_rf)\n",
        "\n",
        "print(\"\\nTraining Random Forest model with selected features...\")\n",
        "selected_rf_model.fit(X_train_selected, y_train)\n",
        "print(\"Training Complete!\")\n",
        "\n",
        "print(\"Evaluating model on test set with selected features...\")\n",
        "selected_predictions = selected_rf_model.predict(X_test_selected)\n",
        "selected_accuracy = accuracy_score(y_test, selected_predictions)\n",
        "\n",
        "print(f\"Final Test Set Accuracy with Feature Selection ({len(selected_features)} features): {selected_accuracy:.4f}\")"
      ],
      "metadata": {
        "colab": {
          "base_uri": "https://localhost:8080/"
        },
        "id": "g8qDmOtOuLHm",
        "outputId": "95515184-ba7e-4c9a-faef-99cbab205392"
      },
      "execution_count": 22,
      "outputs": [
        {
          "output_type": "stream",
          "name": "stdout",
          "text": [
            "Original number of features: 30\n",
            "Number of selected features (importance >= 0.005): 24\n",
            "Selected features: ['worst perimeter', 'worst area', 'worst concave points', 'mean concave points', 'worst radius', 'mean radius', 'mean perimeter', 'mean area', 'mean concavity', 'worst concavity', 'area error', 'mean compactness', 'worst texture', 'worst compactness', 'mean texture', 'worst smoothness', 'radius error', 'worst symmetry', 'perimeter error', 'concavity error', 'worst fractal dimension', 'mean smoothness', 'texture error', 'mean symmetry']\n",
            "\n",
            "Training Random Forest model with selected features...\n",
            "Training Complete!\n",
            "Evaluating model on test set with selected features...\n",
            "Final Test Set Accuracy with Feature Selection (24 features): 0.9561\n"
          ]
        }
      ]
    },
    {
      "cell_type": "code",
      "source": [
        "from sklearn.model_selection import RandomizedSearchCV\n",
        "from sklearn.ensemble import GradientBoostingClassifier\n",
        "from sklearn.metrics import accuracy_score\n",
        "import numpy as np\n",
        "\n",
        "param_dist = {\n",
        "    'n_estimators': [50, 100, 150, 200, 300, 400, 500],\n",
        "    'learning_rate': [0.001, 0.01, 0.05, 0.1, 0.15, 0.2],\n",
        "    'max_depth': [2, 3, 4, 5, 6],\n",
        "    'subsample': [0.6, 0.7, 0.8, 0.9, 1.0]\n",
        "}\n",
        "\n",
        "gb_model_base = GradientBoostingClassifier(random_state=42)\n",
        "\n",
        "random_search = RandomizedSearchCV(estimator=gb_model_base,\n",
        "                                   param_distributions=param_dist,\n",
        "                                   n_iter=200,\n",
        "                                   scoring='accuracy',\n",
        "                                   cv=5,\n",
        "                                   random_state=42,\n",
        "                                   n_jobs=-1)\n",
        "\n",
        "print(\"Starting Randomized Search (Hyperparameter Tuning)...\")\n",
        "random_search.fit(X_train, y_train)\n",
        "print(\"Randomized Search Complete!\")\n",
        "\n",
        "print(\"\\nBest Hyperparameters found with Randomized Search:\", random_search.best_params_)\n",
        "print(\"Best Cross-Validation Score found with Randomized Search:\", random_search.best_score_)\n",
        "\n",
        "print(\"Evaluating model on test set with best parameters...\")\n",
        "best_gb_model_random = random_search.best_estimator_\n",
        "final_predictions_random = best_gb_model_random.predict(X_test)\n",
        "final_accuracy_random = accuracy_score(y_test, final_predictions_random)\n",
        "\n",
        "# Modified print statement using .format()\n",
        "print(\"Final Test Set Accuracy with Best Tuned Parameters (Randomized Search): {:.4f}\".format(final_accuracy_random))"
      ],
      "metadata": {
        "colab": {
          "base_uri": "https://localhost:8080/"
        },
        "id": "olUEYkrwvFAw",
        "outputId": "1ffabc5a-c30f-4c58-fd7c-5bb1d84069dd"
      },
      "execution_count": 25,
      "outputs": [
        {
          "output_type": "stream",
          "name": "stdout",
          "text": [
            "Starting Randomized Search (Hyperparameter Tuning)...\n",
            "Randomized Search Complete!\n",
            "\n",
            "Best Hyperparameters found with Randomized Search: {'subsample': 0.7, 'n_estimators': 500, 'max_depth': 4, 'learning_rate': 0.05}\n",
            "Best Cross-Validation Score found with Randomized Search: 0.9802197802197803\n",
            "Evaluating model on test set with best parameters...\n",
            "Final Test Set Accuracy with Best Tuned Parameters (Randomized Search): 0.9561\n"
          ]
        }
      ]
    },
    {
      "cell_type": "code",
      "source": [
        "from sklearn.datasets import load_breast_cancer\n",
        "import pandas as pd\n",
        "from sklearn.model_selection import train_test_split, RandomizedSearchCV, StratifiedKFold\n",
        "from sklearn.ensemble import GradientBoostingClassifier\n",
        "from sklearn.preprocessing import StandardScaler\n",
        "from sklearn.feature_selection import SelectKBest, f_classif\n",
        "from sklearn.metrics import accuracy_score\n",
        "import numpy as np\n",
        "\n",
        "cancer = load_breast_cancer()\n",
        "cancer_df = pd.DataFrame(data=cancer.data, columns=cancer.feature_names)\n",
        "cancer_df['target'] = cancer.target\n",
        "\n",
        "print(\"First 5 rows of the dataset:\")\n",
        "print(cancer_df.head(5))\n",
        "\n",
        "X = cancer_df.drop('target', axis=1).values\n",
        "y = cancer_df['target'].values\n",
        "\n",
        "X_train, X_test, y_train, y_test = train_test_split(X, y, test_size=0.1, random_state=42)\n",
        "\n",
        "scaler = StandardScaler()\n",
        "X_train_scaled = scaler.fit_transform(X_train)\n",
        "X_test_scaled = scaler.transform(X_test)\n",
        "\n",
        "selector = SelectKBest(score_func=f_classif, k=20)\n",
        "X_train_selected = selector.fit_transform(X_train_scaled, y_train)\n",
        "X_test_selected = selector.transform(X_test_scaled)\n",
        "\n",
        "param_dist = {\n",
        "    'n_estimators': [100, 150, 200, 250, 300],\n",
        "    'learning_rate': [0.01, 0.03, 0.05, 0.07, 0.1],\n",
        "    'max_depth': [3, 4, 5],\n",
        "    'subsample': [0.8, 0.9],\n",
        "    'min_samples_split': [2, 5, 10],\n",
        "    'min_samples_leaf': [1, 2, 4]\n",
        "}\n",
        "\n",
        "gb_model_base = GradientBoostingClassifier(random_state=42)\n",
        "skf = StratifiedKFold(n_splits=3, shuffle=True, random_state=42)\n",
        "random_search = RandomizedSearchCV(estimator=gb_model_base,\n",
        "                                   param_distributions=param_dist,\n",
        "                                   n_iter=100,\n",
        "                                   scoring='accuracy',\n",
        "                                   cv=skf,\n",
        "                                   random_state=42,\n",
        "                                   n_jobs=-1,\n",
        "                                   verbose=2)\n",
        "\n",
        "print(\"Starting Randomized Search (Hyperparameter Tuning)...\")\n",
        "random_search.fit(X_train_selected, y_train)\n",
        "print(\"Randomized Search Complete!\")\n",
        "\n",
        "print(\"\\nBest Hyperparameters found with Randomized Search:\", random_search.best_params_)\n",
        "print(\"Best Cross-Validation Score found with Randomized Search:\", random_search.best_score_)\n",
        "\n",
        "print(\"Evaluating model on test set with best parameters...\")\n",
        "best_gb_model_random = random_search.best_estimator_\n",
        "final_predictions_random = best_gb_model_random.predict(X_test_selected)\n",
        "final_accuracy_random = accuracy_score(y_test, final_predictions_random)\n",
        "\n",
        "print(\"Final Test Set Accuracy with Best Tuned Parameters (Randomized Search): {:.4f}\".format(final_accuracy_random))"
      ],
      "metadata": {
        "colab": {
          "base_uri": "https://localhost:8080/"
        },
        "id": "4gOM2PDwk3Or",
        "outputId": "a8292bb5-ce71-42d8-b841-ae90ee659ab4"
      },
      "execution_count": 3,
      "outputs": [
        {
          "output_type": "stream",
          "name": "stdout",
          "text": [
            "First 5 rows of the dataset:\n",
            "   mean radius  mean texture  mean perimeter  mean area  mean smoothness  \\\n",
            "0        17.99         10.38          122.80     1001.0          0.11840   \n",
            "1        20.57         17.77          132.90     1326.0          0.08474   \n",
            "2        19.69         21.25          130.00     1203.0          0.10960   \n",
            "3        11.42         20.38           77.58      386.1          0.14250   \n",
            "4        20.29         14.34          135.10     1297.0          0.10030   \n",
            "\n",
            "   mean compactness  mean concavity  mean concave points  mean symmetry  \\\n",
            "0           0.27760          0.3001              0.14710         0.2419   \n",
            "1           0.07864          0.0869              0.07017         0.1812   \n",
            "2           0.15990          0.1974              0.12790         0.2069   \n",
            "3           0.28390          0.2414              0.10520         0.2597   \n",
            "4           0.13280          0.1980              0.10430         0.1809   \n",
            "\n",
            "   mean fractal dimension  ...  worst texture  worst perimeter  worst area  \\\n",
            "0                 0.07871  ...          17.33           184.60      2019.0   \n",
            "1                 0.05667  ...          23.41           158.80      1956.0   \n",
            "2                 0.05999  ...          25.53           152.50      1709.0   \n",
            "3                 0.09744  ...          26.50            98.87       567.7   \n",
            "4                 0.05883  ...          16.67           152.20      1575.0   \n",
            "\n",
            "   worst smoothness  worst compactness  worst concavity  worst concave points  \\\n",
            "0            0.1622             0.6656           0.7119                0.2654   \n",
            "1            0.1238             0.1866           0.2416                0.1860   \n",
            "2            0.1444             0.4245           0.4504                0.2430   \n",
            "3            0.2098             0.8663           0.6869                0.2575   \n",
            "4            0.1374             0.2050           0.4000                0.1625   \n",
            "\n",
            "   worst symmetry  worst fractal dimension  target  \n",
            "0          0.4601                  0.11890       0  \n",
            "1          0.2750                  0.08902       0  \n",
            "2          0.3613                  0.08758       0  \n",
            "3          0.6638                  0.17300       0  \n",
            "4          0.2364                  0.07678       0  \n",
            "\n",
            "[5 rows x 31 columns]\n",
            "Starting Randomized Search (Hyperparameter Tuning)...\n",
            "Fitting 3 folds for each of 100 candidates, totalling 300 fits\n",
            "Randomized Search Complete!\n",
            "\n",
            "Best Hyperparameters found with Randomized Search: {'subsample': 0.8, 'n_estimators': 300, 'min_samples_split': 5, 'min_samples_leaf': 2, 'max_depth': 4, 'learning_rate': 0.1}\n",
            "Best Cross-Validation Score found with Randomized Search: 0.9726292856323816\n",
            "Evaluating model on test set with best parameters...\n",
            "Final Test Set Accuracy with Best Tuned Parameters (Randomized Search): 0.9825\n"
          ]
        }
      ]
    }
  ]
}